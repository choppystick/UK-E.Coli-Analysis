{
 "cells": [
  {
   "cell_type": "code",
   "execution_count": 1,
   "id": "initial_id",
   "metadata": {
    "collapsed": true,
    "ExecuteTime": {
     "end_time": "2024-07-31T00:25:28.777110300Z",
     "start_time": "2024-07-31T00:25:28.258819300Z"
    }
   },
   "outputs": [],
   "source": [
    "import pandas as pd\n",
    "import requests\n",
    "import numpy as np\n",
    "\n",
    "# Because NHS cannot properly write their dataset correctly, we are using the below helper functions to convert the dataset\n",
    "def generate_year_month(start_year, start_month, num_sets):\n",
    "    year, month = start_year, start_month\n",
    "    for _ in range(num_sets):\n",
    "        yield year, month\n",
    "        month += 1\n",
    "        if month > 12:\n",
    "            month = 1\n",
    "            year += 1\n",
    "\n",
    "def generate_df(df, year, month):\n",
    "    case_columns = df.columns[4:]\n",
    "    num_sets = len(case_columns) // 3\n",
    "\n",
    "    new_data = []\n",
    "    for _, row in df.iterrows():\n",
    "        base_info = row[:4].tolist()\n",
    "        year_month_gen = generate_year_month(year-1, month, num_sets)\n",
    "        for i in range(0, len(case_columns), 3):\n",
    "            year, month = next(year_month_gen)\n",
    "            new_data.extend([\n",
    "                base_info + [year, month, 'Total cases', row[case_columns[i]]],\n",
    "                base_info + [year, month, 'Hospital-onset', row[case_columns[i+1]]],\n",
    "                base_info + [year, month, 'Community-onset', row[case_columns[i+2]]]\n",
    "            ])\n",
    "\n",
    "    # Create the new DataFrame\n",
    "    new_columns = ['Organisation code', 'Organisation type', 'PHE Centre', 'Organisation name', 'Year', 'Month', 'Metric', 'Figure']\n",
    "    new_df  = pd.DataFrame(new_data, columns=new_columns)\n",
    "    new_df  = new_df.sort_values(['Organisation name', 'Year', 'Month', 'Metric'])\n",
    "    new_df  = new_df.reset_index(drop=True)\n",
    "    return new_df"
   ]
  },
  {
   "cell_type": "markdown",
   "source": [],
   "metadata": {
    "collapsed": false
   },
   "id": "c7e85d2a3c5679cc"
  },
  {
   "cell_type": "code",
   "execution_count": 2,
   "outputs": [],
   "source": [
    "#dataset of 2018\n",
    "\n",
    "jan2018 = generate_df(pd.read_csv(\"data\\\\Jan2018.csv\"), 2018, 1)\n",
    "feb2018 = generate_df(pd.read_csv(\"data\\\\Feb2018.csv\"), 2018, 2)\n",
    "mar2018 = generate_df(pd.read_csv(\"data\\\\March2018.csv\"), 2018, 3)\n",
    "apr2018 = generate_df(pd.read_csv(\"data\\\\Apr2018.csv\"), 2018, 4)\n",
    "may2018 = generate_df(pd.read_csv(\"data\\\\May2018.csv\"), 2018, 5)\n",
    "june2018 = generate_df(pd.read_csv(\"data\\\\June2018.csv\"), 2018, 6)\n",
    "july2018 = generate_df(pd.read_csv(\"data\\\\July2018.csv\"), 2018, 7)\n",
    "aug2018 = generate_df(pd.read_csv(\"data\\\\Aug2018.csv\"), 2018, 8)\n",
    "sept2018 = generate_df(pd.read_csv(\"data\\\\Sept2018.csv\"), 2018, 9)\n",
    "oct2018 = generate_df(pd.read_csv(\"data\\\\Oct2018.csv\"), 2018, 10)\n",
    "nov2018 = generate_df(pd.read_csv(\"data\\\\Nov2018.csv\"), 2018, 11)\n",
    "dec2018 = generate_df(pd.read_csv(\"data\\\\Dec2018.csv\"), 2018, 12)\n",
    "\n",
    "df2018 = pd.concat([jan2018, feb2018, mar2018, apr2018, may2018, june2018, july2018, aug2018, sept2018, oct2018, nov2018, dec2018]).drop_duplicates().reset_index(drop=True)\n",
    "\n",
    "#data cleaning\n",
    "df2018 = df2018[~df2018.isnull().any(axis=1)]\n",
    "df2018 = df2018[df2018[\"Organisation code\"] != \"Trust Code\"]\n",
    "df2018[\"Figure\"] = pd.to_numeric(df2018[\"Figure\"])"
   ],
   "metadata": {
    "collapsed": false,
    "ExecuteTime": {
     "end_time": "2024-07-31T00:25:29.355265100Z",
     "start_time": "2024-07-31T00:25:28.781059400Z"
    }
   },
   "id": "d37a94783401bb55"
  },
  {
   "cell_type": "code",
   "execution_count": 3,
   "outputs": [
    {
     "data": {
      "text/plain": "               Year         Month        Figure\ncount  43893.000000  43893.000000  43893.000000\nmean    2018.540473      6.774292     23.732486\nstd        0.498365      3.226238    165.331728\nmin     2018.000000      1.000000      0.000000\n25%     2018.000000      4.000000      4.000000\n50%     2019.000000      7.000000     12.000000\n75%     2019.000000     10.000000     22.000000\nmax     2019.000000     12.000000   4164.000000",
      "text/html": "<div>\n<style scoped>\n    .dataframe tbody tr th:only-of-type {\n        vertical-align: middle;\n    }\n\n    .dataframe tbody tr th {\n        vertical-align: top;\n    }\n\n    .dataframe thead th {\n        text-align: right;\n    }\n</style>\n<table border=\"1\" class=\"dataframe\">\n  <thead>\n    <tr style=\"text-align: right;\">\n      <th></th>\n      <th>Year</th>\n      <th>Month</th>\n      <th>Figure</th>\n    </tr>\n  </thead>\n  <tbody>\n    <tr>\n      <th>count</th>\n      <td>43893.000000</td>\n      <td>43893.000000</td>\n      <td>43893.000000</td>\n    </tr>\n    <tr>\n      <th>mean</th>\n      <td>2018.540473</td>\n      <td>6.774292</td>\n      <td>23.732486</td>\n    </tr>\n    <tr>\n      <th>std</th>\n      <td>0.498365</td>\n      <td>3.226238</td>\n      <td>165.331728</td>\n    </tr>\n    <tr>\n      <th>min</th>\n      <td>2018.000000</td>\n      <td>1.000000</td>\n      <td>0.000000</td>\n    </tr>\n    <tr>\n      <th>25%</th>\n      <td>2018.000000</td>\n      <td>4.000000</td>\n      <td>4.000000</td>\n    </tr>\n    <tr>\n      <th>50%</th>\n      <td>2019.000000</td>\n      <td>7.000000</td>\n      <td>12.000000</td>\n    </tr>\n    <tr>\n      <th>75%</th>\n      <td>2019.000000</td>\n      <td>10.000000</td>\n      <td>22.000000</td>\n    </tr>\n    <tr>\n      <th>max</th>\n      <td>2019.000000</td>\n      <td>12.000000</td>\n      <td>4164.000000</td>\n    </tr>\n  </tbody>\n</table>\n</div>"
     },
     "execution_count": 3,
     "metadata": {},
     "output_type": "execute_result"
    }
   ],
   "source": [
    "jan2019 = pd.read_csv(\"data\\\\Jan2019.csv\")\n",
    "feb2019 = pd.read_csv(\"data\\\\Feb2019.csv\")\n",
    "mar2019 = pd.read_csv(\"data\\\\March2019.csv\")\n",
    "apr2019 = pd.read_csv(\"data\\\\Apr2019.csv\")\n",
    "may2019 = pd.read_csv(\"data\\\\May2019.csv\")\n",
    "june2019 = pd.read_csv(\"data\\\\June2019.csv\")\n",
    "july2019 = pd.read_csv(\"data\\\\July2019.csv\")\n",
    "aug2019 = pd.read_csv(\"data\\\\Aug2019.csv\")\n",
    "sept2019 = pd.read_csv(\"data\\\\Sept2019.csv\")\n",
    "oct2019 = pd.read_csv(\"data\\\\Oct2019.csv\")\n",
    "nov2019 = pd.read_csv(\"data\\\\Nov2019.csv\")\n",
    "dec2019 = pd.read_csv(\"data\\\\Dec2019.csv\")\n",
    "\n",
    "jan2019 = generate_df(jan2019, 2019, 1)\n",
    "feb2019 = generate_df(feb2019, 2019, 2)\n",
    "df2019 = pd.concat([jan2019, feb2019, mar2019, apr2019, may2019, june2019, july2019, aug2019, sept2019, oct2019, nov2019, dec2019]).drop_duplicates().reset_index(drop=True).drop([\"Data signed off\", \"Data changed since last publication?\", \"Collection\"], axis=1)\n",
    "\n",
    "df2019 = df2019[~df2019.isnull().any(axis=1)]\n",
    "df2019 = df2019[df2019[\"Organisation code\"] != \"Trust Code\"]\n",
    "df2019[\"Figure\"] = pd.to_numeric(df2019[\"Figure\"])\n",
    "\n",
    "df2019.describe()"
   ],
   "metadata": {
    "collapsed": false,
    "ExecuteTime": {
     "end_time": "2024-07-31T00:25:29.994643600Z",
     "start_time": "2024-07-31T00:25:29.357269Z"
    }
   },
   "id": "2a010bcaa83962dc"
  },
  {
   "cell_type": "code",
   "execution_count": 4,
   "outputs": [
    {
     "name": "stdout",
     "output_type": "stream",
     "text": [
      "<class 'pandas.core.frame.DataFrame'>\n",
      "RangeIndex: 124622 entries, 0 to 124621\n",
      "Data columns (total 8 columns):\n",
      " #   Column             Non-Null Count   Dtype  \n",
      "---  ------             --------------   -----  \n",
      " 0   Organisation type  124621 non-null  object \n",
      " 1   Organisation code  124621 non-null  object \n",
      " 2   Organisation name  124621 non-null  object \n",
      " 3   PHE Centre         124270 non-null  object \n",
      " 4   Year               124621 non-null  float64\n",
      " 5   Month              124621 non-null  float64\n",
      " 6   Metric             124621 non-null  object \n",
      " 7   Figure             124621 non-null  float64\n",
      "dtypes: float64(3), object(5)\n",
      "memory usage: 7.6+ MB\n"
     ]
    }
   ],
   "source": [
    "jan2020 = pd.read_csv(\"data\\\\Jan2020.csv\")\n",
    "feb2020 = pd.read_csv(\"data\\\\Feb2020.csv\")\n",
    "mar2020 = pd.read_csv(\"data\\\\March2020.csv\")\n",
    "apr2020 = pd.read_csv(\"data\\\\Apr2020.csv\")\n",
    "may2020 = pd.read_csv(\"data\\\\May2020.csv\")\n",
    "june2020 = pd.read_csv(\"data\\\\June2020.csv\")\n",
    "july2020 = pd.read_csv(\"data\\\\July2020.csv\")\n",
    "aug2020 = pd.read_csv(\"data\\\\Aug2020.csv\")\n",
    "sept2020 = pd.read_csv(\"data\\\\Sept2020.csv\")\n",
    "oct2020 = pd.read_csv(\"data\\\\Oct2020.csv\")\n",
    "nov2020 = pd.read_csv(\"data\\\\Nov2020.csv\")\n",
    "dec2020 = pd.read_csv(\"data\\\\Dec2020.csv\")\n",
    "\n",
    "\n",
    "df2020 = pd.concat([jan2020,feb2020, mar2020, apr2020, may2020, june2020, july2020, aug2020, sept2020, oct2020, nov2020, dec2020]).drop_duplicates().reset_index(drop=True).drop([\"Data signed off\", \"Data changed since last publication?\", \"Collection\", \"STP\"], axis=1)\n",
    "\n",
    "df2020.info()"
   ],
   "metadata": {
    "collapsed": false,
    "ExecuteTime": {
     "end_time": "2024-07-31T00:25:30.888198900Z",
     "start_time": "2024-07-31T00:25:29.998643600Z"
    }
   },
   "id": "47a216c1ba9774d"
  },
  {
   "cell_type": "code",
   "execution_count": 5,
   "outputs": [
    {
     "data": {
      "text/plain": "                Year          Month         Figure\ncount  170009.000000  170009.000000  170009.000000\nmean     2020.546795       6.419648      15.178461\nstd         0.497807       3.469120     119.586080\nmin      2020.000000       1.000000       0.000000\n25%      2020.000000       3.000000       0.000000\n50%      2021.000000       6.000000       4.000000\n75%      2021.000000       9.000000      13.000000\nmax      2021.000000      12.000000    3616.000000",
      "text/html": "<div>\n<style scoped>\n    .dataframe tbody tr th:only-of-type {\n        vertical-align: middle;\n    }\n\n    .dataframe tbody tr th {\n        vertical-align: top;\n    }\n\n    .dataframe thead th {\n        text-align: right;\n    }\n</style>\n<table border=\"1\" class=\"dataframe\">\n  <thead>\n    <tr style=\"text-align: right;\">\n      <th></th>\n      <th>Year</th>\n      <th>Month</th>\n      <th>Figure</th>\n    </tr>\n  </thead>\n  <tbody>\n    <tr>\n      <th>count</th>\n      <td>170009.000000</td>\n      <td>170009.000000</td>\n      <td>170009.000000</td>\n    </tr>\n    <tr>\n      <th>mean</th>\n      <td>2020.546795</td>\n      <td>6.419648</td>\n      <td>15.178461</td>\n    </tr>\n    <tr>\n      <th>std</th>\n      <td>0.497807</td>\n      <td>3.469120</td>\n      <td>119.586080</td>\n    </tr>\n    <tr>\n      <th>min</th>\n      <td>2020.000000</td>\n      <td>1.000000</td>\n      <td>0.000000</td>\n    </tr>\n    <tr>\n      <th>25%</th>\n      <td>2020.000000</td>\n      <td>3.000000</td>\n      <td>0.000000</td>\n    </tr>\n    <tr>\n      <th>50%</th>\n      <td>2021.000000</td>\n      <td>6.000000</td>\n      <td>4.000000</td>\n    </tr>\n    <tr>\n      <th>75%</th>\n      <td>2021.000000</td>\n      <td>9.000000</td>\n      <td>13.000000</td>\n    </tr>\n    <tr>\n      <th>max</th>\n      <td>2021.000000</td>\n      <td>12.000000</td>\n      <td>3616.000000</td>\n    </tr>\n  </tbody>\n</table>\n</div>"
     },
     "execution_count": 5,
     "metadata": {},
     "output_type": "execute_result"
    }
   ],
   "source": [
    "jan2021 = pd.read_csv(\"data\\\\Jan2021.csv\")\n",
    "feb2021 = pd.read_csv(\"data\\\\Feb2021.csv\")\n",
    "mar2021 = pd.read_csv(\"data\\\\March2021.csv\")\n",
    "apr2021 = pd.read_csv(\"data\\\\Apr2021.csv\")\n",
    "may2021 = pd.read_csv(\"data\\\\May2021.csv\")\n",
    "june2021 = pd.read_csv(\"data\\\\June2021.csv\")\n",
    "july2021 = pd.read_csv(\"data\\\\July2021.csv\")\n",
    "aug2021 = pd.read_csv(\"data\\\\Aug2021.csv\")\n",
    "sept2021 = pd.read_csv(\"data\\\\Sept2021.csv\")\n",
    "oct2021 = pd.read_csv(\"data\\\\Oct2021.csv\")\n",
    "nov2021 = pd.read_csv(\"data\\\\Nov2021.csv\")\n",
    "dec2021 = pd.read_csv(\"data\\\\Dec2021.csv\")\n",
    "\n",
    "df2021 = pd.concat([jan2021,feb2021, mar2021, apr2021, may2021, june2021, july2021, aug2021, sept2021, oct2021, nov2021, dec2021]).drop_duplicates().reset_index(drop=True).drop([\"Data signed off\", \"Data changed since last publication?\", \"Collection\"], axis=1)\n",
    "\n",
    "\n",
    "df2021.describe()"
   ],
   "metadata": {
    "collapsed": false,
    "ExecuteTime": {
     "end_time": "2024-07-31T00:25:31.823135800Z",
     "start_time": "2024-07-31T00:25:30.890198200Z"
    }
   },
   "id": "6fe24358936ba8c9"
  },
  {
   "cell_type": "code",
   "execution_count": 6,
   "outputs": [
    {
     "data": {
      "text/plain": "      Organisation type Organisation code Organisation name  \\\n25483               CCG             X2C4Y          Kirklees   \n25495               CCG             X2C4Y          Kirklees   \n25500               CCG             X2C4Y          Kirklees   \n25506               CCG             X2C4Y          Kirklees   \n25518               CCG             X2C4Y          Kirklees   \n25527               CCG             X2C4Y          Kirklees   \n25531               CCG             X2C4Y          Kirklees   \n25532               CCG             X2C4Y          Kirklees   \n25533               CCG             X2C4Y          Kirklees   \n25539               CCG             X2C4Y          Kirklees   \n25549               CCG             X2C4Y          Kirklees   \n25553               CCG             X2C4Y          Kirklees   \n25573               CCG             X2C4Y          Kirklees   \n29712               CCG             X2C4Y          Kirklees   \n29716               CCG             X2C4Y          Kirklees   \n33847               CCG             X2C4Y          Kirklees   \n33850               CCG             X2C4Y          Kirklees   \n33855               CCG             X2C4Y          Kirklees   \n38059               CCG             X2C4Y          Kirklees   \n38061               CCG             X2C4Y          Kirklees   \n38070               CCG             X2C4Y          Kirklees   \n42416               CCG             X2C4Y          Kirklees   \n42424               CCG             X2C4Y          Kirklees   \n46599               CCG             X2C4Y          Kirklees   \n46601               CCG             X2C4Y          Kirklees   \n50868               CCG             X2C4Y          Kirklees   \n50871               CCG             X2C4Y          Kirklees   \n55169               CCG             X2C4Y          Kirklees   \n55176               CCG             X2C4Y          Kirklees   \n59375               CCG             X2C4Y          Kirklees   \n59376               CCG             X2C4Y          Kirklees   \n84769               CCG             X2C4Y          Kirklees   \n84777               CCG             X2C4Y          Kirklees   \n84798               CCG             X2C4Y          Kirklees   \n84808               CCG             X2C4Y          Kirklees   \n84816               CCG             X2C4Y          Kirklees   \n84819               CCG             X2C4Y          Kirklees   \n84828               CCG             X2C4Y          Kirklees   \n84838               CCG             X2C4Y          Kirklees   \n84839               CCG             X2C4Y          Kirklees   \n84841               CCG             X2C4Y          Kirklees   \n84843               CCG             X2C4Y          Kirklees   \n84858               CCG             X2C4Y          Kirklees   \n84868               CCG             X2C4Y          Kirklees   \n88897               CCG             X2C4Y          Kirklees   \n88900               CCG             X2C4Y          Kirklees   \n93045               CCG             X2C4Y          Kirklees   \n93050               CCG             X2C4Y          Kirklees   \n\n                 PHE Centre  \\\n25483  Yorkshire and Humber   \n25495  Yorkshire and Humber   \n25500  Yorkshire and Humber   \n25506  Yorkshire and Humber   \n25518  Yorkshire and Humber   \n25527  Yorkshire and Humber   \n25531  Yorkshire and Humber   \n25532  Yorkshire and Humber   \n25533  Yorkshire and Humber   \n25539  Yorkshire and Humber   \n25549  Yorkshire and Humber   \n25553  Yorkshire and Humber   \n25573  Yorkshire and Humber   \n29712  Yorkshire and Humber   \n29716  Yorkshire and Humber   \n33847  Yorkshire and Humber   \n33850  Yorkshire and Humber   \n33855  Yorkshire and Humber   \n38059  Yorkshire and Humber   \n38061  Yorkshire and Humber   \n38070  Yorkshire and Humber   \n42416  Yorkshire and Humber   \n42424  Yorkshire and Humber   \n46599  Yorkshire and Humber   \n46601  Yorkshire and Humber   \n50868  Yorkshire and Humber   \n50871  Yorkshire and Humber   \n55169  Yorkshire and Humber   \n55176  Yorkshire and Humber   \n59375  Yorkshire and Humber   \n59376  Yorkshire and Humber   \n84769                   NaN   \n84777                   NaN   \n84798                   NaN   \n84808                   NaN   \n84816                   NaN   \n84819                   NaN   \n84828                   NaN   \n84838                   NaN   \n84839                   NaN   \n84841                   NaN   \n84843                   NaN   \n84858                   NaN   \n84868                   NaN   \n88897                   NaN   \n88900                   NaN   \n93045                   NaN   \n93050                   NaN   \n\n                                                     STP  \\\n25483  West Yorkshire and Harrogate Health & Care Par...   \n25495  West Yorkshire and Harrogate Health & Care Par...   \n25500  West Yorkshire and Harrogate Health & Care Par...   \n25506  West Yorkshire and Harrogate Health & Care Par...   \n25518  West Yorkshire and Harrogate Health & Care Par...   \n25527  West Yorkshire and Harrogate Health & Care Par...   \n25531  West Yorkshire and Harrogate Health & Care Par...   \n25532  West Yorkshire and Harrogate Health & Care Par...   \n25533  West Yorkshire and Harrogate Health & Care Par...   \n25539  West Yorkshire and Harrogate Health & Care Par...   \n25549  West Yorkshire and Harrogate Health & Care Par...   \n25553  West Yorkshire and Harrogate Health & Care Par...   \n25573  West Yorkshire and Harrogate Health & Care Par...   \n29712  West Yorkshire and Harrogate Health & Care Par...   \n29716  West Yorkshire and Harrogate Health & Care Par...   \n33847  West Yorkshire and Harrogate Health & Care Par...   \n33850  West Yorkshire and Harrogate Health & Care Par...   \n33855  West Yorkshire and Harrogate Health & Care Par...   \n38059  West Yorkshire and Harrogate Health & Care Par...   \n38061  West Yorkshire and Harrogate Health & Care Par...   \n38070  West Yorkshire and Harrogate Health & Care Par...   \n42416  West Yorkshire and Harrogate Health & Care Par...   \n42424  West Yorkshire and Harrogate Health & Care Par...   \n46599  West Yorkshire and Harrogate Health & Care Par...   \n46601  West Yorkshire and Harrogate Health & Care Par...   \n50868  West Yorkshire and Harrogate Health & Care Par...   \n50871  West Yorkshire and Harrogate Health & Care Par...   \n55169  West Yorkshire and Harrogate Health & Care Par...   \n55176  West Yorkshire and Harrogate Health & Care Par...   \n59375  West Yorkshire and Harrogate Health & Care Par...   \n59376  West Yorkshire and Harrogate Health & Care Par...   \n84769  West Yorkshire and Harrogate Health & Care Par...   \n84777  West Yorkshire and Harrogate Health & Care Par...   \n84798  West Yorkshire and Harrogate Health & Care Par...   \n84808  West Yorkshire and Harrogate Health & Care Par...   \n84816  West Yorkshire and Harrogate Health & Care Par...   \n84819  West Yorkshire and Harrogate Health & Care Par...   \n84828  West Yorkshire and Harrogate Health & Care Par...   \n84838  West Yorkshire and Harrogate Health & Care Par...   \n84839  West Yorkshire and Harrogate Health & Care Par...   \n84841  West Yorkshire and Harrogate Health & Care Par...   \n84843  West Yorkshire and Harrogate Health & Care Par...   \n84858  West Yorkshire and Harrogate Health & Care Par...   \n84868  West Yorkshire and Harrogate Health & Care Par...   \n88897  West Yorkshire and Harrogate Health & Care Par...   \n88900  West Yorkshire and Harrogate Health & Care Par...   \n93045  West Yorkshire and Harrogate Health & Care Par...   \n93050  West Yorkshire and Harrogate Health & Care Par...   \n\n                    Region name  Year  Month  \\\n25483  North East and Yorkshire  2022      1   \n25495  North East and Yorkshire  2021      1   \n25500  North East and Yorkshire  2021      4   \n25506  North East and Yorkshire  2021      2   \n25518  North East and Yorkshire  2021      7   \n25527  North East and Yorkshire  2021     12   \n25531  North East and Yorkshire  2021      5   \n25532  North East and Yorkshire  2021     10   \n25533  North East and Yorkshire  2021      9   \n25539  North East and Yorkshire  2021     11   \n25549  North East and Yorkshire  2021      8   \n25553  North East and Yorkshire  2021      6   \n25573  North East and Yorkshire  2021      3   \n29712  North East and Yorkshire  2022      2   \n29716  North East and Yorkshire  2022      1   \n33847  North East and Yorkshire  2022      3   \n33850  North East and Yorkshire  2021      9   \n33855  North East and Yorkshire  2022      2   \n38059  North East and Yorkshire  2022      3   \n38061  North East and Yorkshire  2022      4   \n38070  North East and Yorkshire  2021      9   \n42416  North East and Yorkshire  2022      4   \n42424  North East and Yorkshire  2022      5   \n46599  North East and Yorkshire  2022      5   \n46601  North East and Yorkshire  2022      6   \n50868  North East and Yorkshire  2022      7   \n50871  North East and Yorkshire  2022      6   \n55169  North East and Yorkshire  2022      8   \n55176  North East and Yorkshire  2022      7   \n59375  North East and Yorkshire  2022      9   \n59376  North East and Yorkshire  2022      8   \n84769  North East and Yorkshire  2022      2   \n84777  North East and Yorkshire  2022      6   \n84798  North East and Yorkshire  2022      9   \n84808  North East and Yorkshire  2021     12   \n84816  North East and Yorkshire  2021     11   \n84819  North East and Yorkshire  2022      7   \n84828  North East and Yorkshire  2022      8   \n84838  North East and Yorkshire  2022      5   \n84839  North East and Yorkshire  2022      3   \n84841  North East and Yorkshire  2022      1   \n84843  North East and Yorkshire  2021     10   \n84858  North East and Yorkshire  2022     10   \n84868  North East and Yorkshire  2022      4   \n88897  North East and Yorkshire  2022     11   \n88900  North East and Yorkshire  2022     10   \n93045  North East and Yorkshire  2022     12   \n93050  North East and Yorkshire  2022     11   \n\n                                      Metric  Figure          UKHSA Centre  \n25483  Community-onset, community associated      15                   NaN  \n25495  Community-onset, community associated      19                   NaN  \n25500  Community-onset, community associated      14                   NaN  \n25506  Community-onset, community associated      17                   NaN  \n25518  Community-onset, community associated      16                   NaN  \n25527  Community-onset, community associated       9                   NaN  \n25531  Community-onset, community associated      13                   NaN  \n25532  Community-onset, community associated      20                   NaN  \n25533  Community-onset, community associated      12                   NaN  \n25539  Community-onset, community associated      18                   NaN  \n25549  Community-onset, community associated      12                   NaN  \n25553  Community-onset, community associated      23                   NaN  \n25573  Community-onset, community associated      21                   NaN  \n29712  Community-onset, community associated      18                   NaN  \n29716  Community-onset, community associated      15                   NaN  \n33847  Community-onset, community associated      20                   NaN  \n33850  Community-onset, community associated      11                   NaN  \n33855  Community-onset, community associated      18                   NaN  \n38059  Community-onset, community associated      20                   NaN  \n38061  Community-onset, community associated      14                   NaN  \n38070  Community-onset, community associated      11                   NaN  \n42416  Community-onset, community associated      14                   NaN  \n42424  Community-onset, community associated      19                   NaN  \n46599  Community-onset, community associated      19                   NaN  \n46601  Community-onset, community associated      15                   NaN  \n50868  Community-onset, community associated      17                   NaN  \n50871  Community-onset, community associated      15                   NaN  \n55169  Community-onset, community associated      17                   NaN  \n55176  Community-onset, community associated      17                   NaN  \n59375  Community-onset, community associated      19                   NaN  \n59376  Community-onset, community associated      18                   NaN  \n84769  Community-onset, community associated      18  Yorkshire and Humber  \n84777  Community-onset, community associated      15  Yorkshire and Humber  \n84798  Community-onset, community associated      19  Yorkshire and Humber  \n84808  Community-onset, community associated       9  Yorkshire and Humber  \n84816  Community-onset, community associated      18  Yorkshire and Humber  \n84819  Community-onset, community associated      17  Yorkshire and Humber  \n84828  Community-onset, community associated      18  Yorkshire and Humber  \n84838  Community-onset, community associated      19  Yorkshire and Humber  \n84839  Community-onset, community associated      20  Yorkshire and Humber  \n84841  Community-onset, community associated      15  Yorkshire and Humber  \n84843  Community-onset, community associated      20  Yorkshire and Humber  \n84858  Community-onset, community associated      11  Yorkshire and Humber  \n84868  Community-onset, community associated      14  Yorkshire and Humber  \n88897  Community-onset, community associated      23  Yorkshire and Humber  \n88900  Community-onset, community associated      11  Yorkshire and Humber  \n93045  Community-onset, community associated       8  Yorkshire and Humber  \n93050  Community-onset, community associated      23  Yorkshire and Humber  ",
      "text/html": "<div>\n<style scoped>\n    .dataframe tbody tr th:only-of-type {\n        vertical-align: middle;\n    }\n\n    .dataframe tbody tr th {\n        vertical-align: top;\n    }\n\n    .dataframe thead th {\n        text-align: right;\n    }\n</style>\n<table border=\"1\" class=\"dataframe\">\n  <thead>\n    <tr style=\"text-align: right;\">\n      <th></th>\n      <th>Organisation type</th>\n      <th>Organisation code</th>\n      <th>Organisation name</th>\n      <th>PHE Centre</th>\n      <th>STP</th>\n      <th>Region name</th>\n      <th>Year</th>\n      <th>Month</th>\n      <th>Metric</th>\n      <th>Figure</th>\n      <th>UKHSA Centre</th>\n    </tr>\n  </thead>\n  <tbody>\n    <tr>\n      <th>25483</th>\n      <td>CCG</td>\n      <td>X2C4Y</td>\n      <td>Kirklees</td>\n      <td>Yorkshire and Humber</td>\n      <td>West Yorkshire and Harrogate Health &amp; Care Par...</td>\n      <td>North East and Yorkshire</td>\n      <td>2022</td>\n      <td>1</td>\n      <td>Community-onset, community associated</td>\n      <td>15</td>\n      <td>NaN</td>\n    </tr>\n    <tr>\n      <th>25495</th>\n      <td>CCG</td>\n      <td>X2C4Y</td>\n      <td>Kirklees</td>\n      <td>Yorkshire and Humber</td>\n      <td>West Yorkshire and Harrogate Health &amp; Care Par...</td>\n      <td>North East and Yorkshire</td>\n      <td>2021</td>\n      <td>1</td>\n      <td>Community-onset, community associated</td>\n      <td>19</td>\n      <td>NaN</td>\n    </tr>\n    <tr>\n      <th>25500</th>\n      <td>CCG</td>\n      <td>X2C4Y</td>\n      <td>Kirklees</td>\n      <td>Yorkshire and Humber</td>\n      <td>West Yorkshire and Harrogate Health &amp; Care Par...</td>\n      <td>North East and Yorkshire</td>\n      <td>2021</td>\n      <td>4</td>\n      <td>Community-onset, community associated</td>\n      <td>14</td>\n      <td>NaN</td>\n    </tr>\n    <tr>\n      <th>25506</th>\n      <td>CCG</td>\n      <td>X2C4Y</td>\n      <td>Kirklees</td>\n      <td>Yorkshire and Humber</td>\n      <td>West Yorkshire and Harrogate Health &amp; Care Par...</td>\n      <td>North East and Yorkshire</td>\n      <td>2021</td>\n      <td>2</td>\n      <td>Community-onset, community associated</td>\n      <td>17</td>\n      <td>NaN</td>\n    </tr>\n    <tr>\n      <th>25518</th>\n      <td>CCG</td>\n      <td>X2C4Y</td>\n      <td>Kirklees</td>\n      <td>Yorkshire and Humber</td>\n      <td>West Yorkshire and Harrogate Health &amp; Care Par...</td>\n      <td>North East and Yorkshire</td>\n      <td>2021</td>\n      <td>7</td>\n      <td>Community-onset, community associated</td>\n      <td>16</td>\n      <td>NaN</td>\n    </tr>\n    <tr>\n      <th>25527</th>\n      <td>CCG</td>\n      <td>X2C4Y</td>\n      <td>Kirklees</td>\n      <td>Yorkshire and Humber</td>\n      <td>West Yorkshire and Harrogate Health &amp; Care Par...</td>\n      <td>North East and Yorkshire</td>\n      <td>2021</td>\n      <td>12</td>\n      <td>Community-onset, community associated</td>\n      <td>9</td>\n      <td>NaN</td>\n    </tr>\n    <tr>\n      <th>25531</th>\n      <td>CCG</td>\n      <td>X2C4Y</td>\n      <td>Kirklees</td>\n      <td>Yorkshire and Humber</td>\n      <td>West Yorkshire and Harrogate Health &amp; Care Par...</td>\n      <td>North East and Yorkshire</td>\n      <td>2021</td>\n      <td>5</td>\n      <td>Community-onset, community associated</td>\n      <td>13</td>\n      <td>NaN</td>\n    </tr>\n    <tr>\n      <th>25532</th>\n      <td>CCG</td>\n      <td>X2C4Y</td>\n      <td>Kirklees</td>\n      <td>Yorkshire and Humber</td>\n      <td>West Yorkshire and Harrogate Health &amp; Care Par...</td>\n      <td>North East and Yorkshire</td>\n      <td>2021</td>\n      <td>10</td>\n      <td>Community-onset, community associated</td>\n      <td>20</td>\n      <td>NaN</td>\n    </tr>\n    <tr>\n      <th>25533</th>\n      <td>CCG</td>\n      <td>X2C4Y</td>\n      <td>Kirklees</td>\n      <td>Yorkshire and Humber</td>\n      <td>West Yorkshire and Harrogate Health &amp; Care Par...</td>\n      <td>North East and Yorkshire</td>\n      <td>2021</td>\n      <td>9</td>\n      <td>Community-onset, community associated</td>\n      <td>12</td>\n      <td>NaN</td>\n    </tr>\n    <tr>\n      <th>25539</th>\n      <td>CCG</td>\n      <td>X2C4Y</td>\n      <td>Kirklees</td>\n      <td>Yorkshire and Humber</td>\n      <td>West Yorkshire and Harrogate Health &amp; Care Par...</td>\n      <td>North East and Yorkshire</td>\n      <td>2021</td>\n      <td>11</td>\n      <td>Community-onset, community associated</td>\n      <td>18</td>\n      <td>NaN</td>\n    </tr>\n    <tr>\n      <th>25549</th>\n      <td>CCG</td>\n      <td>X2C4Y</td>\n      <td>Kirklees</td>\n      <td>Yorkshire and Humber</td>\n      <td>West Yorkshire and Harrogate Health &amp; Care Par...</td>\n      <td>North East and Yorkshire</td>\n      <td>2021</td>\n      <td>8</td>\n      <td>Community-onset, community associated</td>\n      <td>12</td>\n      <td>NaN</td>\n    </tr>\n    <tr>\n      <th>25553</th>\n      <td>CCG</td>\n      <td>X2C4Y</td>\n      <td>Kirklees</td>\n      <td>Yorkshire and Humber</td>\n      <td>West Yorkshire and Harrogate Health &amp; Care Par...</td>\n      <td>North East and Yorkshire</td>\n      <td>2021</td>\n      <td>6</td>\n      <td>Community-onset, community associated</td>\n      <td>23</td>\n      <td>NaN</td>\n    </tr>\n    <tr>\n      <th>25573</th>\n      <td>CCG</td>\n      <td>X2C4Y</td>\n      <td>Kirklees</td>\n      <td>Yorkshire and Humber</td>\n      <td>West Yorkshire and Harrogate Health &amp; Care Par...</td>\n      <td>North East and Yorkshire</td>\n      <td>2021</td>\n      <td>3</td>\n      <td>Community-onset, community associated</td>\n      <td>21</td>\n      <td>NaN</td>\n    </tr>\n    <tr>\n      <th>29712</th>\n      <td>CCG</td>\n      <td>X2C4Y</td>\n      <td>Kirklees</td>\n      <td>Yorkshire and Humber</td>\n      <td>West Yorkshire and Harrogate Health &amp; Care Par...</td>\n      <td>North East and Yorkshire</td>\n      <td>2022</td>\n      <td>2</td>\n      <td>Community-onset, community associated</td>\n      <td>18</td>\n      <td>NaN</td>\n    </tr>\n    <tr>\n      <th>29716</th>\n      <td>CCG</td>\n      <td>X2C4Y</td>\n      <td>Kirklees</td>\n      <td>Yorkshire and Humber</td>\n      <td>West Yorkshire and Harrogate Health &amp; Care Par...</td>\n      <td>North East and Yorkshire</td>\n      <td>2022</td>\n      <td>1</td>\n      <td>Community-onset, community associated</td>\n      <td>15</td>\n      <td>NaN</td>\n    </tr>\n    <tr>\n      <th>33847</th>\n      <td>CCG</td>\n      <td>X2C4Y</td>\n      <td>Kirklees</td>\n      <td>Yorkshire and Humber</td>\n      <td>West Yorkshire and Harrogate Health &amp; Care Par...</td>\n      <td>North East and Yorkshire</td>\n      <td>2022</td>\n      <td>3</td>\n      <td>Community-onset, community associated</td>\n      <td>20</td>\n      <td>NaN</td>\n    </tr>\n    <tr>\n      <th>33850</th>\n      <td>CCG</td>\n      <td>X2C4Y</td>\n      <td>Kirklees</td>\n      <td>Yorkshire and Humber</td>\n      <td>West Yorkshire and Harrogate Health &amp; Care Par...</td>\n      <td>North East and Yorkshire</td>\n      <td>2021</td>\n      <td>9</td>\n      <td>Community-onset, community associated</td>\n      <td>11</td>\n      <td>NaN</td>\n    </tr>\n    <tr>\n      <th>33855</th>\n      <td>CCG</td>\n      <td>X2C4Y</td>\n      <td>Kirklees</td>\n      <td>Yorkshire and Humber</td>\n      <td>West Yorkshire and Harrogate Health &amp; Care Par...</td>\n      <td>North East and Yorkshire</td>\n      <td>2022</td>\n      <td>2</td>\n      <td>Community-onset, community associated</td>\n      <td>18</td>\n      <td>NaN</td>\n    </tr>\n    <tr>\n      <th>38059</th>\n      <td>CCG</td>\n      <td>X2C4Y</td>\n      <td>Kirklees</td>\n      <td>Yorkshire and Humber</td>\n      <td>West Yorkshire and Harrogate Health &amp; Care Par...</td>\n      <td>North East and Yorkshire</td>\n      <td>2022</td>\n      <td>3</td>\n      <td>Community-onset, community associated</td>\n      <td>20</td>\n      <td>NaN</td>\n    </tr>\n    <tr>\n      <th>38061</th>\n      <td>CCG</td>\n      <td>X2C4Y</td>\n      <td>Kirklees</td>\n      <td>Yorkshire and Humber</td>\n      <td>West Yorkshire and Harrogate Health &amp; Care Par...</td>\n      <td>North East and Yorkshire</td>\n      <td>2022</td>\n      <td>4</td>\n      <td>Community-onset, community associated</td>\n      <td>14</td>\n      <td>NaN</td>\n    </tr>\n    <tr>\n      <th>38070</th>\n      <td>CCG</td>\n      <td>X2C4Y</td>\n      <td>Kirklees</td>\n      <td>Yorkshire and Humber</td>\n      <td>West Yorkshire and Harrogate Health &amp; Care Par...</td>\n      <td>North East and Yorkshire</td>\n      <td>2021</td>\n      <td>9</td>\n      <td>Community-onset, community associated</td>\n      <td>11</td>\n      <td>NaN</td>\n    </tr>\n    <tr>\n      <th>42416</th>\n      <td>CCG</td>\n      <td>X2C4Y</td>\n      <td>Kirklees</td>\n      <td>Yorkshire and Humber</td>\n      <td>West Yorkshire and Harrogate Health &amp; Care Par...</td>\n      <td>North East and Yorkshire</td>\n      <td>2022</td>\n      <td>4</td>\n      <td>Community-onset, community associated</td>\n      <td>14</td>\n      <td>NaN</td>\n    </tr>\n    <tr>\n      <th>42424</th>\n      <td>CCG</td>\n      <td>X2C4Y</td>\n      <td>Kirklees</td>\n      <td>Yorkshire and Humber</td>\n      <td>West Yorkshire and Harrogate Health &amp; Care Par...</td>\n      <td>North East and Yorkshire</td>\n      <td>2022</td>\n      <td>5</td>\n      <td>Community-onset, community associated</td>\n      <td>19</td>\n      <td>NaN</td>\n    </tr>\n    <tr>\n      <th>46599</th>\n      <td>CCG</td>\n      <td>X2C4Y</td>\n      <td>Kirklees</td>\n      <td>Yorkshire and Humber</td>\n      <td>West Yorkshire and Harrogate Health &amp; Care Par...</td>\n      <td>North East and Yorkshire</td>\n      <td>2022</td>\n      <td>5</td>\n      <td>Community-onset, community associated</td>\n      <td>19</td>\n      <td>NaN</td>\n    </tr>\n    <tr>\n      <th>46601</th>\n      <td>CCG</td>\n      <td>X2C4Y</td>\n      <td>Kirklees</td>\n      <td>Yorkshire and Humber</td>\n      <td>West Yorkshire and Harrogate Health &amp; Care Par...</td>\n      <td>North East and Yorkshire</td>\n      <td>2022</td>\n      <td>6</td>\n      <td>Community-onset, community associated</td>\n      <td>15</td>\n      <td>NaN</td>\n    </tr>\n    <tr>\n      <th>50868</th>\n      <td>CCG</td>\n      <td>X2C4Y</td>\n      <td>Kirklees</td>\n      <td>Yorkshire and Humber</td>\n      <td>West Yorkshire and Harrogate Health &amp; Care Par...</td>\n      <td>North East and Yorkshire</td>\n      <td>2022</td>\n      <td>7</td>\n      <td>Community-onset, community associated</td>\n      <td>17</td>\n      <td>NaN</td>\n    </tr>\n    <tr>\n      <th>50871</th>\n      <td>CCG</td>\n      <td>X2C4Y</td>\n      <td>Kirklees</td>\n      <td>Yorkshire and Humber</td>\n      <td>West Yorkshire and Harrogate Health &amp; Care Par...</td>\n      <td>North East and Yorkshire</td>\n      <td>2022</td>\n      <td>6</td>\n      <td>Community-onset, community associated</td>\n      <td>15</td>\n      <td>NaN</td>\n    </tr>\n    <tr>\n      <th>55169</th>\n      <td>CCG</td>\n      <td>X2C4Y</td>\n      <td>Kirklees</td>\n      <td>Yorkshire and Humber</td>\n      <td>West Yorkshire and Harrogate Health &amp; Care Par...</td>\n      <td>North East and Yorkshire</td>\n      <td>2022</td>\n      <td>8</td>\n      <td>Community-onset, community associated</td>\n      <td>17</td>\n      <td>NaN</td>\n    </tr>\n    <tr>\n      <th>55176</th>\n      <td>CCG</td>\n      <td>X2C4Y</td>\n      <td>Kirklees</td>\n      <td>Yorkshire and Humber</td>\n      <td>West Yorkshire and Harrogate Health &amp; Care Par...</td>\n      <td>North East and Yorkshire</td>\n      <td>2022</td>\n      <td>7</td>\n      <td>Community-onset, community associated</td>\n      <td>17</td>\n      <td>NaN</td>\n    </tr>\n    <tr>\n      <th>59375</th>\n      <td>CCG</td>\n      <td>X2C4Y</td>\n      <td>Kirklees</td>\n      <td>Yorkshire and Humber</td>\n      <td>West Yorkshire and Harrogate Health &amp; Care Par...</td>\n      <td>North East and Yorkshire</td>\n      <td>2022</td>\n      <td>9</td>\n      <td>Community-onset, community associated</td>\n      <td>19</td>\n      <td>NaN</td>\n    </tr>\n    <tr>\n      <th>59376</th>\n      <td>CCG</td>\n      <td>X2C4Y</td>\n      <td>Kirklees</td>\n      <td>Yorkshire and Humber</td>\n      <td>West Yorkshire and Harrogate Health &amp; Care Par...</td>\n      <td>North East and Yorkshire</td>\n      <td>2022</td>\n      <td>8</td>\n      <td>Community-onset, community associated</td>\n      <td>18</td>\n      <td>NaN</td>\n    </tr>\n    <tr>\n      <th>84769</th>\n      <td>CCG</td>\n      <td>X2C4Y</td>\n      <td>Kirklees</td>\n      <td>NaN</td>\n      <td>West Yorkshire and Harrogate Health &amp; Care Par...</td>\n      <td>North East and Yorkshire</td>\n      <td>2022</td>\n      <td>2</td>\n      <td>Community-onset, community associated</td>\n      <td>18</td>\n      <td>Yorkshire and Humber</td>\n    </tr>\n    <tr>\n      <th>84777</th>\n      <td>CCG</td>\n      <td>X2C4Y</td>\n      <td>Kirklees</td>\n      <td>NaN</td>\n      <td>West Yorkshire and Harrogate Health &amp; Care Par...</td>\n      <td>North East and Yorkshire</td>\n      <td>2022</td>\n      <td>6</td>\n      <td>Community-onset, community associated</td>\n      <td>15</td>\n      <td>Yorkshire and Humber</td>\n    </tr>\n    <tr>\n      <th>84798</th>\n      <td>CCG</td>\n      <td>X2C4Y</td>\n      <td>Kirklees</td>\n      <td>NaN</td>\n      <td>West Yorkshire and Harrogate Health &amp; Care Par...</td>\n      <td>North East and Yorkshire</td>\n      <td>2022</td>\n      <td>9</td>\n      <td>Community-onset, community associated</td>\n      <td>19</td>\n      <td>Yorkshire and Humber</td>\n    </tr>\n    <tr>\n      <th>84808</th>\n      <td>CCG</td>\n      <td>X2C4Y</td>\n      <td>Kirklees</td>\n      <td>NaN</td>\n      <td>West Yorkshire and Harrogate Health &amp; Care Par...</td>\n      <td>North East and Yorkshire</td>\n      <td>2021</td>\n      <td>12</td>\n      <td>Community-onset, community associated</td>\n      <td>9</td>\n      <td>Yorkshire and Humber</td>\n    </tr>\n    <tr>\n      <th>84816</th>\n      <td>CCG</td>\n      <td>X2C4Y</td>\n      <td>Kirklees</td>\n      <td>NaN</td>\n      <td>West Yorkshire and Harrogate Health &amp; Care Par...</td>\n      <td>North East and Yorkshire</td>\n      <td>2021</td>\n      <td>11</td>\n      <td>Community-onset, community associated</td>\n      <td>18</td>\n      <td>Yorkshire and Humber</td>\n    </tr>\n    <tr>\n      <th>84819</th>\n      <td>CCG</td>\n      <td>X2C4Y</td>\n      <td>Kirklees</td>\n      <td>NaN</td>\n      <td>West Yorkshire and Harrogate Health &amp; Care Par...</td>\n      <td>North East and Yorkshire</td>\n      <td>2022</td>\n      <td>7</td>\n      <td>Community-onset, community associated</td>\n      <td>17</td>\n      <td>Yorkshire and Humber</td>\n    </tr>\n    <tr>\n      <th>84828</th>\n      <td>CCG</td>\n      <td>X2C4Y</td>\n      <td>Kirklees</td>\n      <td>NaN</td>\n      <td>West Yorkshire and Harrogate Health &amp; Care Par...</td>\n      <td>North East and Yorkshire</td>\n      <td>2022</td>\n      <td>8</td>\n      <td>Community-onset, community associated</td>\n      <td>18</td>\n      <td>Yorkshire and Humber</td>\n    </tr>\n    <tr>\n      <th>84838</th>\n      <td>CCG</td>\n      <td>X2C4Y</td>\n      <td>Kirklees</td>\n      <td>NaN</td>\n      <td>West Yorkshire and Harrogate Health &amp; Care Par...</td>\n      <td>North East and Yorkshire</td>\n      <td>2022</td>\n      <td>5</td>\n      <td>Community-onset, community associated</td>\n      <td>19</td>\n      <td>Yorkshire and Humber</td>\n    </tr>\n    <tr>\n      <th>84839</th>\n      <td>CCG</td>\n      <td>X2C4Y</td>\n      <td>Kirklees</td>\n      <td>NaN</td>\n      <td>West Yorkshire and Harrogate Health &amp; Care Par...</td>\n      <td>North East and Yorkshire</td>\n      <td>2022</td>\n      <td>3</td>\n      <td>Community-onset, community associated</td>\n      <td>20</td>\n      <td>Yorkshire and Humber</td>\n    </tr>\n    <tr>\n      <th>84841</th>\n      <td>CCG</td>\n      <td>X2C4Y</td>\n      <td>Kirklees</td>\n      <td>NaN</td>\n      <td>West Yorkshire and Harrogate Health &amp; Care Par...</td>\n      <td>North East and Yorkshire</td>\n      <td>2022</td>\n      <td>1</td>\n      <td>Community-onset, community associated</td>\n      <td>15</td>\n      <td>Yorkshire and Humber</td>\n    </tr>\n    <tr>\n      <th>84843</th>\n      <td>CCG</td>\n      <td>X2C4Y</td>\n      <td>Kirklees</td>\n      <td>NaN</td>\n      <td>West Yorkshire and Harrogate Health &amp; Care Par...</td>\n      <td>North East and Yorkshire</td>\n      <td>2021</td>\n      <td>10</td>\n      <td>Community-onset, community associated</td>\n      <td>20</td>\n      <td>Yorkshire and Humber</td>\n    </tr>\n    <tr>\n      <th>84858</th>\n      <td>CCG</td>\n      <td>X2C4Y</td>\n      <td>Kirklees</td>\n      <td>NaN</td>\n      <td>West Yorkshire and Harrogate Health &amp; Care Par...</td>\n      <td>North East and Yorkshire</td>\n      <td>2022</td>\n      <td>10</td>\n      <td>Community-onset, community associated</td>\n      <td>11</td>\n      <td>Yorkshire and Humber</td>\n    </tr>\n    <tr>\n      <th>84868</th>\n      <td>CCG</td>\n      <td>X2C4Y</td>\n      <td>Kirklees</td>\n      <td>NaN</td>\n      <td>West Yorkshire and Harrogate Health &amp; Care Par...</td>\n      <td>North East and Yorkshire</td>\n      <td>2022</td>\n      <td>4</td>\n      <td>Community-onset, community associated</td>\n      <td>14</td>\n      <td>Yorkshire and Humber</td>\n    </tr>\n    <tr>\n      <th>88897</th>\n      <td>CCG</td>\n      <td>X2C4Y</td>\n      <td>Kirklees</td>\n      <td>NaN</td>\n      <td>West Yorkshire and Harrogate Health &amp; Care Par...</td>\n      <td>North East and Yorkshire</td>\n      <td>2022</td>\n      <td>11</td>\n      <td>Community-onset, community associated</td>\n      <td>23</td>\n      <td>Yorkshire and Humber</td>\n    </tr>\n    <tr>\n      <th>88900</th>\n      <td>CCG</td>\n      <td>X2C4Y</td>\n      <td>Kirklees</td>\n      <td>NaN</td>\n      <td>West Yorkshire and Harrogate Health &amp; Care Par...</td>\n      <td>North East and Yorkshire</td>\n      <td>2022</td>\n      <td>10</td>\n      <td>Community-onset, community associated</td>\n      <td>11</td>\n      <td>Yorkshire and Humber</td>\n    </tr>\n    <tr>\n      <th>93045</th>\n      <td>CCG</td>\n      <td>X2C4Y</td>\n      <td>Kirklees</td>\n      <td>NaN</td>\n      <td>West Yorkshire and Harrogate Health &amp; Care Par...</td>\n      <td>North East and Yorkshire</td>\n      <td>2022</td>\n      <td>12</td>\n      <td>Community-onset, community associated</td>\n      <td>8</td>\n      <td>Yorkshire and Humber</td>\n    </tr>\n    <tr>\n      <th>93050</th>\n      <td>CCG</td>\n      <td>X2C4Y</td>\n      <td>Kirklees</td>\n      <td>NaN</td>\n      <td>West Yorkshire and Harrogate Health &amp; Care Par...</td>\n      <td>North East and Yorkshire</td>\n      <td>2022</td>\n      <td>11</td>\n      <td>Community-onset, community associated</td>\n      <td>23</td>\n      <td>Yorkshire and Humber</td>\n    </tr>\n  </tbody>\n</table>\n</div>"
     },
     "execution_count": 6,
     "metadata": {},
     "output_type": "execute_result"
    }
   ],
   "source": [
    "jan2022 = pd.read_csv(\"data\\\\Jan2022.csv\")\n",
    "feb2022 = pd.read_csv(\"data\\\\Feb2022.csv\")\n",
    "mar2022 = pd.read_csv(\"data\\\\March2022.csv\")\n",
    "apr2022 = pd.read_csv(\"data\\\\Apr2022.csv\")\n",
    "may2022 = pd.read_csv(\"data\\\\May2022.csv\")\n",
    "june2022 = pd.read_csv(\"data\\\\June2022.csv\")\n",
    "july2022 = pd.read_csv(\"data\\\\July2022.csv\")\n",
    "aug2022 = pd.read_csv(\"data\\\\Aug2022.csv\")\n",
    "sept2022 = pd.read_csv(\"data\\\\Sept2022.csv\")\n",
    "oct2022 = pd.read_csv(\"data\\\\Oct2022.csv\")\n",
    "nov2022 = pd.read_csv(\"data\\\\Nov2022.csv\")\n",
    "dec2022 = pd.read_csv(\"data\\\\Dec2022.csv\")\n",
    "\n",
    "df2022 = pd.concat([jan2022,feb2022, mar2022, apr2022, may2022, june2022, july2022, aug2022, sept2022, oct2022, nov2022, dec2022]).drop_duplicates().reset_index(drop=True).drop([\"Data signed off\", \"Data changed since last publication?\", \"Collection\"], axis=1)\n",
    "\n",
    "df2022[(df2022[\"Organisation name\"] == \" Kirklees\") & (df2022[\"Metric\"] == \"Community-onset, community associated\")]\n"
   ],
   "metadata": {
    "collapsed": false,
    "ExecuteTime": {
     "end_time": "2024-07-31T00:25:32.695313500Z",
     "start_time": "2024-07-31T00:25:31.797546400Z"
    }
   },
   "id": "9d48d0769ab4e2a9"
  },
  {
   "cell_type": "code",
   "execution_count": 7,
   "outputs": [
    {
     "data": {
      "text/plain": "  Organisation type Organisation code  \\\n0         Sub - ICB               00L   \n1         Sub - ICB               00L   \n2         Sub - ICB               00L   \n3         Sub - ICB               00L   \n4         Sub - ICB               00L   \n\n                            Organisation name UKHSA Centre  \\\n0  NHS NORTH EAST AND NORTH CUMBRIA ICB - 00L   North East   \n1  NHS NORTH EAST AND NORTH CUMBRIA ICB - 00L   North East   \n2  NHS NORTH EAST AND NORTH CUMBRIA ICB - 00L   North East   \n3  NHS NORTH EAST AND NORTH CUMBRIA ICB - 00L   North East   \n4  NHS NORTH EAST AND NORTH CUMBRIA ICB - 00L   North East   \n\n                                                 ICB  \\\n0  NHS North East and North Cumbria Integrated Ca...   \n1  NHS North East and North Cumbria Integrated Ca...   \n2  NHS North East and North Cumbria Integrated Ca...   \n3  NHS North East and North Cumbria Integrated Ca...   \n4  NHS North East and North Cumbria Integrated Ca...   \n\n                Region name  Year  Month  \\\n0  North East and Yorkshire  2022      8   \n1  North East and Yorkshire  2022      5   \n2  North East and Yorkshire  2022      4   \n3  North East and Yorkshire  2022      6   \n4  North East and Yorkshire  2022      5   \n\n                                   Metric  Figure  \n0   Community-onset, community associated      21  \n1  Community-onset, healthcare associated       4  \n2   Community-onset, community associated      11  \n3                                 Unknown       0  \n4   Community-onset, community associated      15  ",
      "text/html": "<div>\n<style scoped>\n    .dataframe tbody tr th:only-of-type {\n        vertical-align: middle;\n    }\n\n    .dataframe tbody tr th {\n        vertical-align: top;\n    }\n\n    .dataframe thead th {\n        text-align: right;\n    }\n</style>\n<table border=\"1\" class=\"dataframe\">\n  <thead>\n    <tr style=\"text-align: right;\">\n      <th></th>\n      <th>Organisation type</th>\n      <th>Organisation code</th>\n      <th>Organisation name</th>\n      <th>UKHSA Centre</th>\n      <th>ICB</th>\n      <th>Region name</th>\n      <th>Year</th>\n      <th>Month</th>\n      <th>Metric</th>\n      <th>Figure</th>\n    </tr>\n  </thead>\n  <tbody>\n    <tr>\n      <th>0</th>\n      <td>Sub - ICB</td>\n      <td>00L</td>\n      <td>NHS NORTH EAST AND NORTH CUMBRIA ICB - 00L</td>\n      <td>North East</td>\n      <td>NHS North East and North Cumbria Integrated Ca...</td>\n      <td>North East and Yorkshire</td>\n      <td>2022</td>\n      <td>8</td>\n      <td>Community-onset, community associated</td>\n      <td>21</td>\n    </tr>\n    <tr>\n      <th>1</th>\n      <td>Sub - ICB</td>\n      <td>00L</td>\n      <td>NHS NORTH EAST AND NORTH CUMBRIA ICB - 00L</td>\n      <td>North East</td>\n      <td>NHS North East and North Cumbria Integrated Ca...</td>\n      <td>North East and Yorkshire</td>\n      <td>2022</td>\n      <td>5</td>\n      <td>Community-onset, healthcare associated</td>\n      <td>4</td>\n    </tr>\n    <tr>\n      <th>2</th>\n      <td>Sub - ICB</td>\n      <td>00L</td>\n      <td>NHS NORTH EAST AND NORTH CUMBRIA ICB - 00L</td>\n      <td>North East</td>\n      <td>NHS North East and North Cumbria Integrated Ca...</td>\n      <td>North East and Yorkshire</td>\n      <td>2022</td>\n      <td>4</td>\n      <td>Community-onset, community associated</td>\n      <td>11</td>\n    </tr>\n    <tr>\n      <th>3</th>\n      <td>Sub - ICB</td>\n      <td>00L</td>\n      <td>NHS NORTH EAST AND NORTH CUMBRIA ICB - 00L</td>\n      <td>North East</td>\n      <td>NHS North East and North Cumbria Integrated Ca...</td>\n      <td>North East and Yorkshire</td>\n      <td>2022</td>\n      <td>6</td>\n      <td>Unknown</td>\n      <td>0</td>\n    </tr>\n    <tr>\n      <th>4</th>\n      <td>Sub - ICB</td>\n      <td>00L</td>\n      <td>NHS NORTH EAST AND NORTH CUMBRIA ICB - 00L</td>\n      <td>North East</td>\n      <td>NHS North East and North Cumbria Integrated Ca...</td>\n      <td>North East and Yorkshire</td>\n      <td>2022</td>\n      <td>5</td>\n      <td>Community-onset, community associated</td>\n      <td>15</td>\n    </tr>\n  </tbody>\n</table>\n</div>"
     },
     "execution_count": 7,
     "metadata": {},
     "output_type": "execute_result"
    }
   ],
   "source": [
    "jan2023 = pd.read_csv(\"data\\\\Jan2023.csv\")\n",
    "feb2023 = pd.read_csv(\"data\\\\Feb2023.csv\")\n",
    "mar2023 = pd.read_csv(\"data\\\\March2023.csv\")\n",
    "apr2023 = pd.read_csv(\"data\\\\Apr2023.csv\")\n",
    "may2023 = pd.read_csv(\"data\\\\May2023.csv\")\n",
    "june2023 = pd.read_csv(\"data\\\\June2023.csv\")\n",
    "july2023 = pd.read_csv(\"data\\\\July2023.csv\")\n",
    "aug2023 = pd.read_csv(\"data\\\\Aug2023.csv\")\n",
    "sept2023 = pd.read_csv(\"data\\\\Sept2023.csv\")\n",
    "oct2023 = pd.read_csv(\"data\\\\Oct2023.csv\")\n",
    "nov2023 = pd.read_csv(\"data\\\\Nov2023.csv\")\n",
    "dec2023 = pd.read_csv(\"data\\\\Dec2023.csv\")\n",
    "\n",
    "df2023 = pd.concat([jan2023,feb2023, mar2023, apr2023, may2023, june2023, july2023, aug2023, sept2023, oct2023, nov2023, dec2023]).drop_duplicates().reset_index(drop=True).drop([\"Data signed off\", \"Data changed since last publication?\", \"Collection\"], axis=1) \n",
    "\n",
    "df2023.head()"
   ],
   "metadata": {
    "collapsed": false,
    "ExecuteTime": {
     "end_time": "2024-07-31T00:25:33.597709400Z",
     "start_time": "2024-07-31T00:25:32.697315200Z"
    }
   },
   "id": "858f17bb46964533"
  },
  {
   "cell_type": "code",
   "execution_count": 13,
   "outputs": [
    {
     "data": {
      "text/plain": "      Organisation type Organisation code Organisation name UKHSA Centre  \\\n23608          National               ENG           England      England   \n23609          National               ENG           England      England   \n23610          National               ENG           England      England   \n23611          National               ENG           England      England   \n23612          National               ENG           England      England   \n...                 ...               ...               ...          ...   \n41370          National               ENG           England      England   \n41371          National               ENG           England      England   \n41372          National               ENG           England      England   \n41373          National               ENG           England      England   \n41374          National               ENG           England      England   \n\n           ICB Region name  Year  Month  \\\n23608  England     England  2023     12   \n23609  England     England  2023     12   \n23610  England     England  2023      3   \n23611  England     England  2023      1   \n23612  England     England  2023      5   \n...        ...         ...   ...    ...   \n41370  England     England  2024      3   \n41371  England     England  2024      5   \n41372  England     England  2024      3   \n41373  England     England  2024      5   \n41374  England     England  2024      5   \n\n                                       Metric  Figure  \n23608                          No information       1  \n23609                          Hospital-onset     659  \n23610   Hospital-onset, healthcare associated     646  \n23611                          Hospital-onset     654  \n23612  Community-onset, healthcare associated     473  \n...                                       ...     ...  \n41370   Community-onset, community associated    2347  \n41371                         Community-onset    2981  \n41372                             Total cases    3544  \n41373  Community-onset, healthcare associated     548  \n41374   Hospital-onset, healthcare associated     687  \n\n[291 rows x 10 columns]",
      "text/html": "<div>\n<style scoped>\n    .dataframe tbody tr th:only-of-type {\n        vertical-align: middle;\n    }\n\n    .dataframe tbody tr th {\n        vertical-align: top;\n    }\n\n    .dataframe thead th {\n        text-align: right;\n    }\n</style>\n<table border=\"1\" class=\"dataframe\">\n  <thead>\n    <tr style=\"text-align: right;\">\n      <th></th>\n      <th>Organisation type</th>\n      <th>Organisation code</th>\n      <th>Organisation name</th>\n      <th>UKHSA Centre</th>\n      <th>ICB</th>\n      <th>Region name</th>\n      <th>Year</th>\n      <th>Month</th>\n      <th>Metric</th>\n      <th>Figure</th>\n    </tr>\n  </thead>\n  <tbody>\n    <tr>\n      <th>23608</th>\n      <td>National</td>\n      <td>ENG</td>\n      <td>England</td>\n      <td>England</td>\n      <td>England</td>\n      <td>England</td>\n      <td>2023</td>\n      <td>12</td>\n      <td>No information</td>\n      <td>1</td>\n    </tr>\n    <tr>\n      <th>23609</th>\n      <td>National</td>\n      <td>ENG</td>\n      <td>England</td>\n      <td>England</td>\n      <td>England</td>\n      <td>England</td>\n      <td>2023</td>\n      <td>12</td>\n      <td>Hospital-onset</td>\n      <td>659</td>\n    </tr>\n    <tr>\n      <th>23610</th>\n      <td>National</td>\n      <td>ENG</td>\n      <td>England</td>\n      <td>England</td>\n      <td>England</td>\n      <td>England</td>\n      <td>2023</td>\n      <td>3</td>\n      <td>Hospital-onset, healthcare associated</td>\n      <td>646</td>\n    </tr>\n    <tr>\n      <th>23611</th>\n      <td>National</td>\n      <td>ENG</td>\n      <td>England</td>\n      <td>England</td>\n      <td>England</td>\n      <td>England</td>\n      <td>2023</td>\n      <td>1</td>\n      <td>Hospital-onset</td>\n      <td>654</td>\n    </tr>\n    <tr>\n      <th>23612</th>\n      <td>National</td>\n      <td>ENG</td>\n      <td>England</td>\n      <td>England</td>\n      <td>England</td>\n      <td>England</td>\n      <td>2023</td>\n      <td>5</td>\n      <td>Community-onset, healthcare associated</td>\n      <td>473</td>\n    </tr>\n    <tr>\n      <th>...</th>\n      <td>...</td>\n      <td>...</td>\n      <td>...</td>\n      <td>...</td>\n      <td>...</td>\n      <td>...</td>\n      <td>...</td>\n      <td>...</td>\n      <td>...</td>\n      <td>...</td>\n    </tr>\n    <tr>\n      <th>41370</th>\n      <td>National</td>\n      <td>ENG</td>\n      <td>England</td>\n      <td>England</td>\n      <td>England</td>\n      <td>England</td>\n      <td>2024</td>\n      <td>3</td>\n      <td>Community-onset, community associated</td>\n      <td>2347</td>\n    </tr>\n    <tr>\n      <th>41371</th>\n      <td>National</td>\n      <td>ENG</td>\n      <td>England</td>\n      <td>England</td>\n      <td>England</td>\n      <td>England</td>\n      <td>2024</td>\n      <td>5</td>\n      <td>Community-onset</td>\n      <td>2981</td>\n    </tr>\n    <tr>\n      <th>41372</th>\n      <td>National</td>\n      <td>ENG</td>\n      <td>England</td>\n      <td>England</td>\n      <td>England</td>\n      <td>England</td>\n      <td>2024</td>\n      <td>3</td>\n      <td>Total cases</td>\n      <td>3544</td>\n    </tr>\n    <tr>\n      <th>41373</th>\n      <td>National</td>\n      <td>ENG</td>\n      <td>England</td>\n      <td>England</td>\n      <td>England</td>\n      <td>England</td>\n      <td>2024</td>\n      <td>5</td>\n      <td>Community-onset, healthcare associated</td>\n      <td>548</td>\n    </tr>\n    <tr>\n      <th>41374</th>\n      <td>National</td>\n      <td>ENG</td>\n      <td>England</td>\n      <td>England</td>\n      <td>England</td>\n      <td>England</td>\n      <td>2024</td>\n      <td>5</td>\n      <td>Hospital-onset, healthcare associated</td>\n      <td>687</td>\n    </tr>\n  </tbody>\n</table>\n<p>291 rows × 10 columns</p>\n</div>"
     },
     "execution_count": 13,
     "metadata": {},
     "output_type": "execute_result"
    }
   ],
   "source": [
    "jan2024 = pd.read_csv(\"data\\\\Jan2024.csv\")\n",
    "feb2024 = pd.read_csv(\"data\\\\Feb2024.csv\")\n",
    "mar2024 = pd.read_csv(\"data\\\\March2024.csv\")\n",
    "apr2024 = pd.read_csv(\"data\\\\Apr2024.csv\")\n",
    "may2024 = pd.read_csv(\"data\\\\May2024.csv\")\n",
    "\n",
    "df2024 = pd.concat([jan2024,feb2024, mar2024, apr2024, may2024]).drop_duplicates().reset_index(drop=True).drop([\"Data signed off\", \"Data changed since last publication?\", \"Collection\"], axis=1)\n",
    "\n",
    "df2024.loc[df2024[\"Organisation code\"] == \"ENG\"]\n"
   ],
   "metadata": {
    "collapsed": false,
    "ExecuteTime": {
     "end_time": "2024-07-31T02:49:01.744957900Z",
     "start_time": "2024-07-31T02:49:01.248389800Z"
    }
   },
   "id": "f59a7f67e13c43ce"
  },
  {
   "cell_type": "code",
   "execution_count": 9,
   "outputs": [],
   "source": [
    "#Create the full dataset\n",
    "df = pd.concat([df2024, df2023, df2022, df2021, df2020, df2019]).drop_duplicates().reset_index(drop=True)\n",
    "\n",
    "table = df.pivot_table(values=\"Figure\", index=[\"Organisation code\", \"Year\", \"Month\", \"Organisation name\"], columns=\"Metric\").reset_index()\n",
    "\n",
    "metrics = ['Community-onset', 'Community-onset, community associated',\n",
    "          'Community-onset, healthcare associated',\n",
    "          'Community-onset, indeterminate association', 'Hospital-onset',\n",
    "          'Hospital-onset, healthcare associated', 'No information',\n",
    "          'Total cases', 'Unknown', 'Unknown 1 months', 'Unknown 3 months']\n",
    "\n",
    "table[metrics] = table[metrics].apply(np.floor)\n",
    "table = table.replace(np.nan, 0)\n",
    "table['Unknown'] = table[\"Unknown 1 months\"] + table[\"Unknown 3 months\"] + table['No information']\n",
    "table.drop([\"Unknown 3 months\", \"Unknown 1 months\", \"No information\"], axis=1, inplace=True)"
   ],
   "metadata": {
    "collapsed": false,
    "ExecuteTime": {
     "end_time": "2024-07-31T00:25:34.545713700Z",
     "start_time": "2024-07-31T00:25:34.000357800Z"
    }
   },
   "id": "26ad3efcd6892aa0"
  },
  {
   "cell_type": "code",
   "execution_count": 11,
   "outputs": [],
   "source": [
    "#Create zipcode column \n",
    "api_url = \"https://directory.spineservices.nhs.uk/ORD/2-0-0/organisations/\"\n",
    "uniques_code = set(table[\"Organisation code\"])\n",
    "code_dict = {}\n",
    "for code in uniques_code:\n",
    "    response = requests.get(api_url+code)\n",
    "    json = response.json()\n",
    "    if response.status_code == 200:\n",
    "        postcode = json[\"Organisation\"][\"GeoLoc\"][\"Location\"][\"PostCode\"]\n",
    "        code_dict.update({code:postcode})\n",
    "    else:\n",
    "        code_dict.update({code:\"None\"})\n",
    "\n",
    "table[\"Zipcode\"] = table[\"Organisation code\"].apply(code_dict.get)"
   ],
   "metadata": {
    "collapsed": false,
    "ExecuteTime": {
     "end_time": "2024-07-31T00:30:34.585685700Z",
     "start_time": "2024-07-31T00:28:11.606317800Z"
    }
   },
   "id": "515f4f9103942dce"
  },
  {
   "cell_type": "code",
   "execution_count": 12,
   "outputs": [],
   "source": [
    "#full csv file\n",
    "table[\"Date\"] = pd.to_datetime(table.Year.astype(int).astype(str) + '/' + table.Month.astype(int).astype(str) + '/01')\n",
    "table.to_csv(\"masterdata.csv\")"
   ],
   "metadata": {
    "collapsed": false,
    "ExecuteTime": {
     "end_time": "2024-07-31T02:07:35.515128200Z",
     "start_time": "2024-07-31T02:07:35.356557700Z"
    }
   },
   "id": "7b5d0fcde7a08348"
  }
 ],
 "metadata": {
  "kernelspec": {
   "display_name": "Python 3",
   "language": "python",
   "name": "python3"
  },
  "language_info": {
   "codemirror_mode": {
    "name": "ipython",
    "version": 2
   },
   "file_extension": ".py",
   "mimetype": "text/x-python",
   "name": "python",
   "nbconvert_exporter": "python",
   "pygments_lexer": "ipython2",
   "version": "2.7.6"
  }
 },
 "nbformat": 4,
 "nbformat_minor": 5
}
