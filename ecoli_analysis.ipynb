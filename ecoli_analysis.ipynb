{
 "cells": [
  {
   "cell_type": "code",
   "execution_count": 2,
   "id": "initial_id",
   "metadata": {
    "collapsed": true,
    "ExecuteTime": {
     "end_time": "2024-07-20T06:23:34.900444800Z",
     "start_time": "2024-07-20T06:23:33.074210400Z"
    }
   },
   "outputs": [],
   "source": [
    "import pandas as pd\n",
    "import requests\n",
    "import numpy as np"
   ]
  },
  {
   "cell_type": "code",
   "execution_count": 13,
   "outputs": [],
   "source": [
    "# jan2019 = pd.read_csv(\"data\\\\Jan2019.csv\")\n",
    "feb2019 = pd.read_csv(\"data\\\\Table_11_Monthly_E_coli_onset_trust_February_2019.csv\")\n",
    "mar2019 = pd.read_csv(\"data\\\\March2019.csv\")\n",
    "apr2019 = pd.read_csv(\"data\\\\Apr2019.csv\")\n",
    "may2019 = pd.read_csv(\"data\\\\May2019.csv\")\n",
    "june2019 = pd.read_csv(\"data\\\\June2019.csv\")\n",
    "july2019 = pd.read_csv(\"data\\\\July2019.csv\")\n",
    "aug2019 = pd.read_csv(\"data\\\\Aug2019.csv\")\n",
    "sept2019 = pd.read_csv(\"data\\\\Sept2019.csv\")\n",
    "oct2019 = pd.read_csv(\"data\\\\Oct2019.csv\")\n",
    "nov2019 = pd.read_csv(\"data\\\\Nov2019.csv\")\n",
    "dec2019 = pd.read_csv(\"data\\\\Dec2019.csv\")\n",
    "\n",
    "# Because NHS cannot properly write their dataset correctly, we are using the below functions to convert the dataset\n",
    "def generate_year_month(start_year, start_month, num_sets):\n",
    "    year, month = start_year, start_month\n",
    "    for _ in range(num_sets):\n",
    "        yield year, month\n",
    "        month += 1\n",
    "        if month > 12:\n",
    "            month = 1\n",
    "            year += 1\n",
    "\n",
    "def generate_df(df):\n",
    "    case_columns = df.columns[4:]\n",
    "    num_sets = len(case_columns) // 3\n",
    "    \n",
    "    new_data = []\n",
    "    for _, row in df.iterrows():\n",
    "        base_info = row[:4].tolist()\n",
    "        year_month_gen = generate_year_month(2018, 2, num_sets)\n",
    "        for i in range(0, len(case_columns), 3):\n",
    "            year, month = next(year_month_gen)\n",
    "            new_data.extend([\n",
    "                base_info + [year, month, 'Total Reported', row[case_columns[i]]],\n",
    "                base_info + [year, month, 'Hospital Onset', row[case_columns[i+1]]],\n",
    "                base_info + [year, month, 'Community Onset', row[case_columns[i+2]]]\n",
    "            ])\n",
    "    \n",
    "    # Create the new DataFrame\n",
    "    new_columns = ['Trust Code', 'Trust Type', 'PHE Centre', 'Trust Name', 'Year', 'Month', 'Case Type', 'Value']\n",
    "    new_df  = pd.DataFrame(new_data, columns=new_columns)\n",
    "    new_df  = new_df.sort_values(['Trust Name', 'Year', 'Month', 'Case Type'])\n",
    "    new_df  = new_df.reset_index(drop=True)\n",
    "    return new_df\n",
    "\n",
    "df = generate_df(feb2019)\n",
    "df.to_csv(\"test2.csv\", index=False)\n",
    "# df2019 = pd.concat([mar2019, apr2019, may2019, june2019, july2019, aug2019, sept2019, oct2019, nov2019, dec2019]).drop_duplicates().reset_index(drop=True).drop([\"Data signed off\", \"Data changed since last publication?\", \"Collection\"], axis=1)\n",
    "\n",
    "# df2019.head()\n"
   ],
   "metadata": {
    "collapsed": false,
    "ExecuteTime": {
     "end_time": "2024-07-20T06:36:32.615652500Z",
     "start_time": "2024-07-20T06:36:32.327092300Z"
    }
   },
   "id": "2a010bcaa83962dc"
  },
  {
   "cell_type": "code",
   "execution_count": 40,
   "outputs": [
    {
     "data": {
      "text/plain": "  Organisation type Organisation code                Organisation name  \\\n0               CCG               02N   Airedale Wharfedale and Craven   \n1               CCG               02N   Airedale Wharfedale and Craven   \n2               CCG               02N   Airedale Wharfedale and Craven   \n3               CCG               02N   Airedale Wharfedale and Craven   \n4               CCG               02N   Airedale Wharfedale and Craven   \n\n             PHE Centre    Year  Month           Metric  Figure  STP  \n0  Yorkshire and Humber  2019.0    1.0  Community-onset     7.0  NaN  \n1  Yorkshire and Humber  2019.0    1.0   Hospital-onset     0.0  NaN  \n2  Yorkshire and Humber  2019.0    1.0      Total cases     7.0  NaN  \n3  Yorkshire and Humber  2019.0    2.0  Community-onset    10.0  NaN  \n4  Yorkshire and Humber  2019.0    2.0   Hospital-onset     1.0  NaN  ",
      "text/html": "<div>\n<style scoped>\n    .dataframe tbody tr th:only-of-type {\n        vertical-align: middle;\n    }\n\n    .dataframe tbody tr th {\n        vertical-align: top;\n    }\n\n    .dataframe thead th {\n        text-align: right;\n    }\n</style>\n<table border=\"1\" class=\"dataframe\">\n  <thead>\n    <tr style=\"text-align: right;\">\n      <th></th>\n      <th>Organisation type</th>\n      <th>Organisation code</th>\n      <th>Organisation name</th>\n      <th>PHE Centre</th>\n      <th>Year</th>\n      <th>Month</th>\n      <th>Metric</th>\n      <th>Figure</th>\n      <th>STP</th>\n    </tr>\n  </thead>\n  <tbody>\n    <tr>\n      <th>0</th>\n      <td>CCG</td>\n      <td>02N</td>\n      <td>Airedale Wharfedale and Craven</td>\n      <td>Yorkshire and Humber</td>\n      <td>2019.0</td>\n      <td>1.0</td>\n      <td>Community-onset</td>\n      <td>7.0</td>\n      <td>NaN</td>\n    </tr>\n    <tr>\n      <th>1</th>\n      <td>CCG</td>\n      <td>02N</td>\n      <td>Airedale Wharfedale and Craven</td>\n      <td>Yorkshire and Humber</td>\n      <td>2019.0</td>\n      <td>1.0</td>\n      <td>Hospital-onset</td>\n      <td>0.0</td>\n      <td>NaN</td>\n    </tr>\n    <tr>\n      <th>2</th>\n      <td>CCG</td>\n      <td>02N</td>\n      <td>Airedale Wharfedale and Craven</td>\n      <td>Yorkshire and Humber</td>\n      <td>2019.0</td>\n      <td>1.0</td>\n      <td>Total cases</td>\n      <td>7.0</td>\n      <td>NaN</td>\n    </tr>\n    <tr>\n      <th>3</th>\n      <td>CCG</td>\n      <td>02N</td>\n      <td>Airedale Wharfedale and Craven</td>\n      <td>Yorkshire and Humber</td>\n      <td>2019.0</td>\n      <td>2.0</td>\n      <td>Community-onset</td>\n      <td>10.0</td>\n      <td>NaN</td>\n    </tr>\n    <tr>\n      <th>4</th>\n      <td>CCG</td>\n      <td>02N</td>\n      <td>Airedale Wharfedale and Craven</td>\n      <td>Yorkshire and Humber</td>\n      <td>2019.0</td>\n      <td>2.0</td>\n      <td>Hospital-onset</td>\n      <td>1.0</td>\n      <td>NaN</td>\n    </tr>\n  </tbody>\n</table>\n</div>"
     },
     "execution_count": 40,
     "metadata": {},
     "output_type": "execute_result"
    }
   ],
   "source": [
    "jan2020 = pd.read_csv(\"data\\\\Jan2020.csv\")\n",
    "feb2020 = pd.read_csv(\"data\\\\Feb2020.csv\")\n",
    "mar2020 = pd.read_csv(\"data\\\\March2020.csv\")\n",
    "apr2020 = pd.read_csv(\"data\\\\Apr2020.csv\")\n",
    "may2020 = pd.read_csv(\"data\\\\May2020.csv\")\n",
    "june2020 = pd.read_csv(\"data\\\\June2020.csv\")\n",
    "july2020 = pd.read_csv(\"data\\\\July2020.csv\")\n",
    "aug2020 = pd.read_csv(\"data\\\\Aug2020.csv\")\n",
    "sept2020 = pd.read_csv(\"data\\\\Sept2020.csv\")\n",
    "oct2020 = pd.read_csv(\"data\\\\Oct2020.csv\")\n",
    "nov2020 = pd.read_csv(\"data\\\\Nov2020.csv\")\n",
    "dec2020 = pd.read_csv(\"data\\\\Dec2020.csv\")\n",
    "\n",
    "\n",
    "df2020 = pd.concat([jan2020,feb2020, mar2020, apr2020, may2020, june2020, july2020, aug2020, sept2020, oct2020, nov2020, dec2020]).drop_duplicates().reset_index(drop=True).drop([\"Data signed off\", \"Data changed since last publication?\", \"Collection\"], axis=1)\n",
    "\n",
    "df2020.head()"
   ],
   "metadata": {
    "collapsed": false,
    "ExecuteTime": {
     "end_time": "2024-07-20T04:19:56.899340700Z",
     "start_time": "2024-07-20T04:19:56.148750500Z"
    }
   },
   "id": "47a216c1ba9774d"
  },
  {
   "cell_type": "code",
   "execution_count": 96,
   "outputs": [
    {
     "data": {
      "text/plain": "                Year          Month         Figure\ncount  170009.000000  170009.000000  170009.000000\nmean     2020.546795       6.419648      15.178461\nstd         0.497807       3.469120     119.586080\nmin      2020.000000       1.000000       0.000000\n25%      2020.000000       3.000000       0.000000\n50%      2021.000000       6.000000       4.000000\n75%      2021.000000       9.000000      13.000000\nmax      2021.000000      12.000000    3616.000000",
      "text/html": "<div>\n<style scoped>\n    .dataframe tbody tr th:only-of-type {\n        vertical-align: middle;\n    }\n\n    .dataframe tbody tr th {\n        vertical-align: top;\n    }\n\n    .dataframe thead th {\n        text-align: right;\n    }\n</style>\n<table border=\"1\" class=\"dataframe\">\n  <thead>\n    <tr style=\"text-align: right;\">\n      <th></th>\n      <th>Year</th>\n      <th>Month</th>\n      <th>Figure</th>\n    </tr>\n  </thead>\n  <tbody>\n    <tr>\n      <th>count</th>\n      <td>170009.000000</td>\n      <td>170009.000000</td>\n      <td>170009.000000</td>\n    </tr>\n    <tr>\n      <th>mean</th>\n      <td>2020.546795</td>\n      <td>6.419648</td>\n      <td>15.178461</td>\n    </tr>\n    <tr>\n      <th>std</th>\n      <td>0.497807</td>\n      <td>3.469120</td>\n      <td>119.586080</td>\n    </tr>\n    <tr>\n      <th>min</th>\n      <td>2020.000000</td>\n      <td>1.000000</td>\n      <td>0.000000</td>\n    </tr>\n    <tr>\n      <th>25%</th>\n      <td>2020.000000</td>\n      <td>3.000000</td>\n      <td>0.000000</td>\n    </tr>\n    <tr>\n      <th>50%</th>\n      <td>2021.000000</td>\n      <td>6.000000</td>\n      <td>4.000000</td>\n    </tr>\n    <tr>\n      <th>75%</th>\n      <td>2021.000000</td>\n      <td>9.000000</td>\n      <td>13.000000</td>\n    </tr>\n    <tr>\n      <th>max</th>\n      <td>2021.000000</td>\n      <td>12.000000</td>\n      <td>3616.000000</td>\n    </tr>\n  </tbody>\n</table>\n</div>"
     },
     "execution_count": 96,
     "metadata": {},
     "output_type": "execute_result"
    }
   ],
   "source": [
    "jan2021 = pd.read_csv(\"data\\\\Jan2021.csv\")\n",
    "feb2021 = pd.read_csv(\"data\\\\Feb2021.csv\")\n",
    "mar2021 = pd.read_csv(\"data\\\\March2021.csv\")\n",
    "apr2021 = pd.read_csv(\"data\\\\Apr2021.csv\")\n",
    "may2021 = pd.read_csv(\"data\\\\May2021.csv\")\n",
    "june2021 = pd.read_csv(\"data\\\\June2021.csv\")\n",
    "july2021 = pd.read_csv(\"data\\\\July2021.csv\")\n",
    "aug2021 = pd.read_csv(\"data\\\\Aug2021.csv\")\n",
    "sept2021 = pd.read_csv(\"data\\\\Sept2021.csv\")\n",
    "oct2021 = pd.read_csv(\"data\\\\Oct2021.csv\")\n",
    "nov2021 = pd.read_csv(\"data\\\\Nov2021.csv\")\n",
    "dec2021 = pd.read_csv(\"data\\\\Dec2021.csv\")\n",
    "\n",
    "df2021 = pd.concat([jan2021,feb2021, mar2021, apr2021, may2021, june2021, july2021, aug2021, sept2021, oct2021, nov2021, dec2021]).drop_duplicates().reset_index(drop=True).drop([\"Data signed off\", \"Data changed since last publication?\", \"Collection\"], axis=1)\n",
    "\n",
    "\n",
    "df2021.describe()"
   ],
   "metadata": {
    "collapsed": false,
    "ExecuteTime": {
     "end_time": "2024-07-20T05:08:09.434884700Z",
     "start_time": "2024-07-20T05:08:08.617837800Z"
    }
   },
   "id": "6fe24358936ba8c9"
  },
  {
   "cell_type": "code",
   "execution_count": 108,
   "outputs": [
    {
     "data": {
      "text/plain": "      Organisation type Organisation code Organisation name  \\\n25483               CCG             X2C4Y          Kirklees   \n25495               CCG             X2C4Y          Kirklees   \n25500               CCG             X2C4Y          Kirklees   \n25506               CCG             X2C4Y          Kirklees   \n25518               CCG             X2C4Y          Kirklees   \n25527               CCG             X2C4Y          Kirklees   \n25531               CCG             X2C4Y          Kirklees   \n25532               CCG             X2C4Y          Kirklees   \n25533               CCG             X2C4Y          Kirklees   \n25539               CCG             X2C4Y          Kirklees   \n25549               CCG             X2C4Y          Kirklees   \n25553               CCG             X2C4Y          Kirklees   \n25573               CCG             X2C4Y          Kirklees   \n29712               CCG             X2C4Y          Kirklees   \n29716               CCG             X2C4Y          Kirklees   \n33847               CCG             X2C4Y          Kirklees   \n33850               CCG             X2C4Y          Kirklees   \n33855               CCG             X2C4Y          Kirklees   \n38059               CCG             X2C4Y          Kirklees   \n38061               CCG             X2C4Y          Kirklees   \n38070               CCG             X2C4Y          Kirklees   \n42416               CCG             X2C4Y          Kirklees   \n42424               CCG             X2C4Y          Kirklees   \n46599               CCG             X2C4Y          Kirklees   \n46601               CCG             X2C4Y          Kirklees   \n50868               CCG             X2C4Y          Kirklees   \n50871               CCG             X2C4Y          Kirklees   \n55169               CCG             X2C4Y          Kirklees   \n55176               CCG             X2C4Y          Kirklees   \n59375               CCG             X2C4Y          Kirklees   \n59376               CCG             X2C4Y          Kirklees   \n84769               CCG             X2C4Y          Kirklees   \n84777               CCG             X2C4Y          Kirklees   \n84798               CCG             X2C4Y          Kirklees   \n84808               CCG             X2C4Y          Kirklees   \n84816               CCG             X2C4Y          Kirklees   \n84819               CCG             X2C4Y          Kirklees   \n84828               CCG             X2C4Y          Kirklees   \n84838               CCG             X2C4Y          Kirklees   \n84839               CCG             X2C4Y          Kirklees   \n84841               CCG             X2C4Y          Kirklees   \n84843               CCG             X2C4Y          Kirklees   \n84858               CCG             X2C4Y          Kirklees   \n84868               CCG             X2C4Y          Kirklees   \n88897               CCG             X2C4Y          Kirklees   \n88900               CCG             X2C4Y          Kirklees   \n93045               CCG             X2C4Y          Kirklees   \n93050               CCG             X2C4Y          Kirklees   \n\n                 PHE Centre  \\\n25483  Yorkshire and Humber   \n25495  Yorkshire and Humber   \n25500  Yorkshire and Humber   \n25506  Yorkshire and Humber   \n25518  Yorkshire and Humber   \n25527  Yorkshire and Humber   \n25531  Yorkshire and Humber   \n25532  Yorkshire and Humber   \n25533  Yorkshire and Humber   \n25539  Yorkshire and Humber   \n25549  Yorkshire and Humber   \n25553  Yorkshire and Humber   \n25573  Yorkshire and Humber   \n29712  Yorkshire and Humber   \n29716  Yorkshire and Humber   \n33847  Yorkshire and Humber   \n33850  Yorkshire and Humber   \n33855  Yorkshire and Humber   \n38059  Yorkshire and Humber   \n38061  Yorkshire and Humber   \n38070  Yorkshire and Humber   \n42416  Yorkshire and Humber   \n42424  Yorkshire and Humber   \n46599  Yorkshire and Humber   \n46601  Yorkshire and Humber   \n50868  Yorkshire and Humber   \n50871  Yorkshire and Humber   \n55169  Yorkshire and Humber   \n55176  Yorkshire and Humber   \n59375  Yorkshire and Humber   \n59376  Yorkshire and Humber   \n84769                   NaN   \n84777                   NaN   \n84798                   NaN   \n84808                   NaN   \n84816                   NaN   \n84819                   NaN   \n84828                   NaN   \n84838                   NaN   \n84839                   NaN   \n84841                   NaN   \n84843                   NaN   \n84858                   NaN   \n84868                   NaN   \n88897                   NaN   \n88900                   NaN   \n93045                   NaN   \n93050                   NaN   \n\n                                                     STP  \\\n25483  West Yorkshire and Harrogate Health & Care Par...   \n25495  West Yorkshire and Harrogate Health & Care Par...   \n25500  West Yorkshire and Harrogate Health & Care Par...   \n25506  West Yorkshire and Harrogate Health & Care Par...   \n25518  West Yorkshire and Harrogate Health & Care Par...   \n25527  West Yorkshire and Harrogate Health & Care Par...   \n25531  West Yorkshire and Harrogate Health & Care Par...   \n25532  West Yorkshire and Harrogate Health & Care Par...   \n25533  West Yorkshire and Harrogate Health & Care Par...   \n25539  West Yorkshire and Harrogate Health & Care Par...   \n25549  West Yorkshire and Harrogate Health & Care Par...   \n25553  West Yorkshire and Harrogate Health & Care Par...   \n25573  West Yorkshire and Harrogate Health & Care Par...   \n29712  West Yorkshire and Harrogate Health & Care Par...   \n29716  West Yorkshire and Harrogate Health & Care Par...   \n33847  West Yorkshire and Harrogate Health & Care Par...   \n33850  West Yorkshire and Harrogate Health & Care Par...   \n33855  West Yorkshire and Harrogate Health & Care Par...   \n38059  West Yorkshire and Harrogate Health & Care Par...   \n38061  West Yorkshire and Harrogate Health & Care Par...   \n38070  West Yorkshire and Harrogate Health & Care Par...   \n42416  West Yorkshire and Harrogate Health & Care Par...   \n42424  West Yorkshire and Harrogate Health & Care Par...   \n46599  West Yorkshire and Harrogate Health & Care Par...   \n46601  West Yorkshire and Harrogate Health & Care Par...   \n50868  West Yorkshire and Harrogate Health & Care Par...   \n50871  West Yorkshire and Harrogate Health & Care Par...   \n55169  West Yorkshire and Harrogate Health & Care Par...   \n55176  West Yorkshire and Harrogate Health & Care Par...   \n59375  West Yorkshire and Harrogate Health & Care Par...   \n59376  West Yorkshire and Harrogate Health & Care Par...   \n84769  West Yorkshire and Harrogate Health & Care Par...   \n84777  West Yorkshire and Harrogate Health & Care Par...   \n84798  West Yorkshire and Harrogate Health & Care Par...   \n84808  West Yorkshire and Harrogate Health & Care Par...   \n84816  West Yorkshire and Harrogate Health & Care Par...   \n84819  West Yorkshire and Harrogate Health & Care Par...   \n84828  West Yorkshire and Harrogate Health & Care Par...   \n84838  West Yorkshire and Harrogate Health & Care Par...   \n84839  West Yorkshire and Harrogate Health & Care Par...   \n84841  West Yorkshire and Harrogate Health & Care Par...   \n84843  West Yorkshire and Harrogate Health & Care Par...   \n84858  West Yorkshire and Harrogate Health & Care Par...   \n84868  West Yorkshire and Harrogate Health & Care Par...   \n88897  West Yorkshire and Harrogate Health & Care Par...   \n88900  West Yorkshire and Harrogate Health & Care Par...   \n93045  West Yorkshire and Harrogate Health & Care Par...   \n93050  West Yorkshire and Harrogate Health & Care Par...   \n\n                    Region name  Year  Month  \\\n25483  North East and Yorkshire  2022      1   \n25495  North East and Yorkshire  2021      1   \n25500  North East and Yorkshire  2021      4   \n25506  North East and Yorkshire  2021      2   \n25518  North East and Yorkshire  2021      7   \n25527  North East and Yorkshire  2021     12   \n25531  North East and Yorkshire  2021      5   \n25532  North East and Yorkshire  2021     10   \n25533  North East and Yorkshire  2021      9   \n25539  North East and Yorkshire  2021     11   \n25549  North East and Yorkshire  2021      8   \n25553  North East and Yorkshire  2021      6   \n25573  North East and Yorkshire  2021      3   \n29712  North East and Yorkshire  2022      2   \n29716  North East and Yorkshire  2022      1   \n33847  North East and Yorkshire  2022      3   \n33850  North East and Yorkshire  2021      9   \n33855  North East and Yorkshire  2022      2   \n38059  North East and Yorkshire  2022      3   \n38061  North East and Yorkshire  2022      4   \n38070  North East and Yorkshire  2021      9   \n42416  North East and Yorkshire  2022      4   \n42424  North East and Yorkshire  2022      5   \n46599  North East and Yorkshire  2022      5   \n46601  North East and Yorkshire  2022      6   \n50868  North East and Yorkshire  2022      7   \n50871  North East and Yorkshire  2022      6   \n55169  North East and Yorkshire  2022      8   \n55176  North East and Yorkshire  2022      7   \n59375  North East and Yorkshire  2022      9   \n59376  North East and Yorkshire  2022      8   \n84769  North East and Yorkshire  2022      2   \n84777  North East and Yorkshire  2022      6   \n84798  North East and Yorkshire  2022      9   \n84808  North East and Yorkshire  2021     12   \n84816  North East and Yorkshire  2021     11   \n84819  North East and Yorkshire  2022      7   \n84828  North East and Yorkshire  2022      8   \n84838  North East and Yorkshire  2022      5   \n84839  North East and Yorkshire  2022      3   \n84841  North East and Yorkshire  2022      1   \n84843  North East and Yorkshire  2021     10   \n84858  North East and Yorkshire  2022     10   \n84868  North East and Yorkshire  2022      4   \n88897  North East and Yorkshire  2022     11   \n88900  North East and Yorkshire  2022     10   \n93045  North East and Yorkshire  2022     12   \n93050  North East and Yorkshire  2022     11   \n\n                                      Metric  Figure          UKHSA Centre  \n25483  Community-onset, community associated      15                   NaN  \n25495  Community-onset, community associated      19                   NaN  \n25500  Community-onset, community associated      14                   NaN  \n25506  Community-onset, community associated      17                   NaN  \n25518  Community-onset, community associated      16                   NaN  \n25527  Community-onset, community associated       9                   NaN  \n25531  Community-onset, community associated      13                   NaN  \n25532  Community-onset, community associated      20                   NaN  \n25533  Community-onset, community associated      12                   NaN  \n25539  Community-onset, community associated      18                   NaN  \n25549  Community-onset, community associated      12                   NaN  \n25553  Community-onset, community associated      23                   NaN  \n25573  Community-onset, community associated      21                   NaN  \n29712  Community-onset, community associated      18                   NaN  \n29716  Community-onset, community associated      15                   NaN  \n33847  Community-onset, community associated      20                   NaN  \n33850  Community-onset, community associated      11                   NaN  \n33855  Community-onset, community associated      18                   NaN  \n38059  Community-onset, community associated      20                   NaN  \n38061  Community-onset, community associated      14                   NaN  \n38070  Community-onset, community associated      11                   NaN  \n42416  Community-onset, community associated      14                   NaN  \n42424  Community-onset, community associated      19                   NaN  \n46599  Community-onset, community associated      19                   NaN  \n46601  Community-onset, community associated      15                   NaN  \n50868  Community-onset, community associated      17                   NaN  \n50871  Community-onset, community associated      15                   NaN  \n55169  Community-onset, community associated      17                   NaN  \n55176  Community-onset, community associated      17                   NaN  \n59375  Community-onset, community associated      19                   NaN  \n59376  Community-onset, community associated      18                   NaN  \n84769  Community-onset, community associated      18  Yorkshire and Humber  \n84777  Community-onset, community associated      15  Yorkshire and Humber  \n84798  Community-onset, community associated      19  Yorkshire and Humber  \n84808  Community-onset, community associated       9  Yorkshire and Humber  \n84816  Community-onset, community associated      18  Yorkshire and Humber  \n84819  Community-onset, community associated      17  Yorkshire and Humber  \n84828  Community-onset, community associated      18  Yorkshire and Humber  \n84838  Community-onset, community associated      19  Yorkshire and Humber  \n84839  Community-onset, community associated      20  Yorkshire and Humber  \n84841  Community-onset, community associated      15  Yorkshire and Humber  \n84843  Community-onset, community associated      20  Yorkshire and Humber  \n84858  Community-onset, community associated      11  Yorkshire and Humber  \n84868  Community-onset, community associated      14  Yorkshire and Humber  \n88897  Community-onset, community associated      23  Yorkshire and Humber  \n88900  Community-onset, community associated      11  Yorkshire and Humber  \n93045  Community-onset, community associated       8  Yorkshire and Humber  \n93050  Community-onset, community associated      23  Yorkshire and Humber  ",
      "text/html": "<div>\n<style scoped>\n    .dataframe tbody tr th:only-of-type {\n        vertical-align: middle;\n    }\n\n    .dataframe tbody tr th {\n        vertical-align: top;\n    }\n\n    .dataframe thead th {\n        text-align: right;\n    }\n</style>\n<table border=\"1\" class=\"dataframe\">\n  <thead>\n    <tr style=\"text-align: right;\">\n      <th></th>\n      <th>Organisation type</th>\n      <th>Organisation code</th>\n      <th>Organisation name</th>\n      <th>PHE Centre</th>\n      <th>STP</th>\n      <th>Region name</th>\n      <th>Year</th>\n      <th>Month</th>\n      <th>Metric</th>\n      <th>Figure</th>\n      <th>UKHSA Centre</th>\n    </tr>\n  </thead>\n  <tbody>\n    <tr>\n      <th>25483</th>\n      <td>CCG</td>\n      <td>X2C4Y</td>\n      <td>Kirklees</td>\n      <td>Yorkshire and Humber</td>\n      <td>West Yorkshire and Harrogate Health &amp; Care Par...</td>\n      <td>North East and Yorkshire</td>\n      <td>2022</td>\n      <td>1</td>\n      <td>Community-onset, community associated</td>\n      <td>15</td>\n      <td>NaN</td>\n    </tr>\n    <tr>\n      <th>25495</th>\n      <td>CCG</td>\n      <td>X2C4Y</td>\n      <td>Kirklees</td>\n      <td>Yorkshire and Humber</td>\n      <td>West Yorkshire and Harrogate Health &amp; Care Par...</td>\n      <td>North East and Yorkshire</td>\n      <td>2021</td>\n      <td>1</td>\n      <td>Community-onset, community associated</td>\n      <td>19</td>\n      <td>NaN</td>\n    </tr>\n    <tr>\n      <th>25500</th>\n      <td>CCG</td>\n      <td>X2C4Y</td>\n      <td>Kirklees</td>\n      <td>Yorkshire and Humber</td>\n      <td>West Yorkshire and Harrogate Health &amp; Care Par...</td>\n      <td>North East and Yorkshire</td>\n      <td>2021</td>\n      <td>4</td>\n      <td>Community-onset, community associated</td>\n      <td>14</td>\n      <td>NaN</td>\n    </tr>\n    <tr>\n      <th>25506</th>\n      <td>CCG</td>\n      <td>X2C4Y</td>\n      <td>Kirklees</td>\n      <td>Yorkshire and Humber</td>\n      <td>West Yorkshire and Harrogate Health &amp; Care Par...</td>\n      <td>North East and Yorkshire</td>\n      <td>2021</td>\n      <td>2</td>\n      <td>Community-onset, community associated</td>\n      <td>17</td>\n      <td>NaN</td>\n    </tr>\n    <tr>\n      <th>25518</th>\n      <td>CCG</td>\n      <td>X2C4Y</td>\n      <td>Kirklees</td>\n      <td>Yorkshire and Humber</td>\n      <td>West Yorkshire and Harrogate Health &amp; Care Par...</td>\n      <td>North East and Yorkshire</td>\n      <td>2021</td>\n      <td>7</td>\n      <td>Community-onset, community associated</td>\n      <td>16</td>\n      <td>NaN</td>\n    </tr>\n    <tr>\n      <th>25527</th>\n      <td>CCG</td>\n      <td>X2C4Y</td>\n      <td>Kirklees</td>\n      <td>Yorkshire and Humber</td>\n      <td>West Yorkshire and Harrogate Health &amp; Care Par...</td>\n      <td>North East and Yorkshire</td>\n      <td>2021</td>\n      <td>12</td>\n      <td>Community-onset, community associated</td>\n      <td>9</td>\n      <td>NaN</td>\n    </tr>\n    <tr>\n      <th>25531</th>\n      <td>CCG</td>\n      <td>X2C4Y</td>\n      <td>Kirklees</td>\n      <td>Yorkshire and Humber</td>\n      <td>West Yorkshire and Harrogate Health &amp; Care Par...</td>\n      <td>North East and Yorkshire</td>\n      <td>2021</td>\n      <td>5</td>\n      <td>Community-onset, community associated</td>\n      <td>13</td>\n      <td>NaN</td>\n    </tr>\n    <tr>\n      <th>25532</th>\n      <td>CCG</td>\n      <td>X2C4Y</td>\n      <td>Kirklees</td>\n      <td>Yorkshire and Humber</td>\n      <td>West Yorkshire and Harrogate Health &amp; Care Par...</td>\n      <td>North East and Yorkshire</td>\n      <td>2021</td>\n      <td>10</td>\n      <td>Community-onset, community associated</td>\n      <td>20</td>\n      <td>NaN</td>\n    </tr>\n    <tr>\n      <th>25533</th>\n      <td>CCG</td>\n      <td>X2C4Y</td>\n      <td>Kirklees</td>\n      <td>Yorkshire and Humber</td>\n      <td>West Yorkshire and Harrogate Health &amp; Care Par...</td>\n      <td>North East and Yorkshire</td>\n      <td>2021</td>\n      <td>9</td>\n      <td>Community-onset, community associated</td>\n      <td>12</td>\n      <td>NaN</td>\n    </tr>\n    <tr>\n      <th>25539</th>\n      <td>CCG</td>\n      <td>X2C4Y</td>\n      <td>Kirklees</td>\n      <td>Yorkshire and Humber</td>\n      <td>West Yorkshire and Harrogate Health &amp; Care Par...</td>\n      <td>North East and Yorkshire</td>\n      <td>2021</td>\n      <td>11</td>\n      <td>Community-onset, community associated</td>\n      <td>18</td>\n      <td>NaN</td>\n    </tr>\n    <tr>\n      <th>25549</th>\n      <td>CCG</td>\n      <td>X2C4Y</td>\n      <td>Kirklees</td>\n      <td>Yorkshire and Humber</td>\n      <td>West Yorkshire and Harrogate Health &amp; Care Par...</td>\n      <td>North East and Yorkshire</td>\n      <td>2021</td>\n      <td>8</td>\n      <td>Community-onset, community associated</td>\n      <td>12</td>\n      <td>NaN</td>\n    </tr>\n    <tr>\n      <th>25553</th>\n      <td>CCG</td>\n      <td>X2C4Y</td>\n      <td>Kirklees</td>\n      <td>Yorkshire and Humber</td>\n      <td>West Yorkshire and Harrogate Health &amp; Care Par...</td>\n      <td>North East and Yorkshire</td>\n      <td>2021</td>\n      <td>6</td>\n      <td>Community-onset, community associated</td>\n      <td>23</td>\n      <td>NaN</td>\n    </tr>\n    <tr>\n      <th>25573</th>\n      <td>CCG</td>\n      <td>X2C4Y</td>\n      <td>Kirklees</td>\n      <td>Yorkshire and Humber</td>\n      <td>West Yorkshire and Harrogate Health &amp; Care Par...</td>\n      <td>North East and Yorkshire</td>\n      <td>2021</td>\n      <td>3</td>\n      <td>Community-onset, community associated</td>\n      <td>21</td>\n      <td>NaN</td>\n    </tr>\n    <tr>\n      <th>29712</th>\n      <td>CCG</td>\n      <td>X2C4Y</td>\n      <td>Kirklees</td>\n      <td>Yorkshire and Humber</td>\n      <td>West Yorkshire and Harrogate Health &amp; Care Par...</td>\n      <td>North East and Yorkshire</td>\n      <td>2022</td>\n      <td>2</td>\n      <td>Community-onset, community associated</td>\n      <td>18</td>\n      <td>NaN</td>\n    </tr>\n    <tr>\n      <th>29716</th>\n      <td>CCG</td>\n      <td>X2C4Y</td>\n      <td>Kirklees</td>\n      <td>Yorkshire and Humber</td>\n      <td>West Yorkshire and Harrogate Health &amp; Care Par...</td>\n      <td>North East and Yorkshire</td>\n      <td>2022</td>\n      <td>1</td>\n      <td>Community-onset, community associated</td>\n      <td>15</td>\n      <td>NaN</td>\n    </tr>\n    <tr>\n      <th>33847</th>\n      <td>CCG</td>\n      <td>X2C4Y</td>\n      <td>Kirklees</td>\n      <td>Yorkshire and Humber</td>\n      <td>West Yorkshire and Harrogate Health &amp; Care Par...</td>\n      <td>North East and Yorkshire</td>\n      <td>2022</td>\n      <td>3</td>\n      <td>Community-onset, community associated</td>\n      <td>20</td>\n      <td>NaN</td>\n    </tr>\n    <tr>\n      <th>33850</th>\n      <td>CCG</td>\n      <td>X2C4Y</td>\n      <td>Kirklees</td>\n      <td>Yorkshire and Humber</td>\n      <td>West Yorkshire and Harrogate Health &amp; Care Par...</td>\n      <td>North East and Yorkshire</td>\n      <td>2021</td>\n      <td>9</td>\n      <td>Community-onset, community associated</td>\n      <td>11</td>\n      <td>NaN</td>\n    </tr>\n    <tr>\n      <th>33855</th>\n      <td>CCG</td>\n      <td>X2C4Y</td>\n      <td>Kirklees</td>\n      <td>Yorkshire and Humber</td>\n      <td>West Yorkshire and Harrogate Health &amp; Care Par...</td>\n      <td>North East and Yorkshire</td>\n      <td>2022</td>\n      <td>2</td>\n      <td>Community-onset, community associated</td>\n      <td>18</td>\n      <td>NaN</td>\n    </tr>\n    <tr>\n      <th>38059</th>\n      <td>CCG</td>\n      <td>X2C4Y</td>\n      <td>Kirklees</td>\n      <td>Yorkshire and Humber</td>\n      <td>West Yorkshire and Harrogate Health &amp; Care Par...</td>\n      <td>North East and Yorkshire</td>\n      <td>2022</td>\n      <td>3</td>\n      <td>Community-onset, community associated</td>\n      <td>20</td>\n      <td>NaN</td>\n    </tr>\n    <tr>\n      <th>38061</th>\n      <td>CCG</td>\n      <td>X2C4Y</td>\n      <td>Kirklees</td>\n      <td>Yorkshire and Humber</td>\n      <td>West Yorkshire and Harrogate Health &amp; Care Par...</td>\n      <td>North East and Yorkshire</td>\n      <td>2022</td>\n      <td>4</td>\n      <td>Community-onset, community associated</td>\n      <td>14</td>\n      <td>NaN</td>\n    </tr>\n    <tr>\n      <th>38070</th>\n      <td>CCG</td>\n      <td>X2C4Y</td>\n      <td>Kirklees</td>\n      <td>Yorkshire and Humber</td>\n      <td>West Yorkshire and Harrogate Health &amp; Care Par...</td>\n      <td>North East and Yorkshire</td>\n      <td>2021</td>\n      <td>9</td>\n      <td>Community-onset, community associated</td>\n      <td>11</td>\n      <td>NaN</td>\n    </tr>\n    <tr>\n      <th>42416</th>\n      <td>CCG</td>\n      <td>X2C4Y</td>\n      <td>Kirklees</td>\n      <td>Yorkshire and Humber</td>\n      <td>West Yorkshire and Harrogate Health &amp; Care Par...</td>\n      <td>North East and Yorkshire</td>\n      <td>2022</td>\n      <td>4</td>\n      <td>Community-onset, community associated</td>\n      <td>14</td>\n      <td>NaN</td>\n    </tr>\n    <tr>\n      <th>42424</th>\n      <td>CCG</td>\n      <td>X2C4Y</td>\n      <td>Kirklees</td>\n      <td>Yorkshire and Humber</td>\n      <td>West Yorkshire and Harrogate Health &amp; Care Par...</td>\n      <td>North East and Yorkshire</td>\n      <td>2022</td>\n      <td>5</td>\n      <td>Community-onset, community associated</td>\n      <td>19</td>\n      <td>NaN</td>\n    </tr>\n    <tr>\n      <th>46599</th>\n      <td>CCG</td>\n      <td>X2C4Y</td>\n      <td>Kirklees</td>\n      <td>Yorkshire and Humber</td>\n      <td>West Yorkshire and Harrogate Health &amp; Care Par...</td>\n      <td>North East and Yorkshire</td>\n      <td>2022</td>\n      <td>5</td>\n      <td>Community-onset, community associated</td>\n      <td>19</td>\n      <td>NaN</td>\n    </tr>\n    <tr>\n      <th>46601</th>\n      <td>CCG</td>\n      <td>X2C4Y</td>\n      <td>Kirklees</td>\n      <td>Yorkshire and Humber</td>\n      <td>West Yorkshire and Harrogate Health &amp; Care Par...</td>\n      <td>North East and Yorkshire</td>\n      <td>2022</td>\n      <td>6</td>\n      <td>Community-onset, community associated</td>\n      <td>15</td>\n      <td>NaN</td>\n    </tr>\n    <tr>\n      <th>50868</th>\n      <td>CCG</td>\n      <td>X2C4Y</td>\n      <td>Kirklees</td>\n      <td>Yorkshire and Humber</td>\n      <td>West Yorkshire and Harrogate Health &amp; Care Par...</td>\n      <td>North East and Yorkshire</td>\n      <td>2022</td>\n      <td>7</td>\n      <td>Community-onset, community associated</td>\n      <td>17</td>\n      <td>NaN</td>\n    </tr>\n    <tr>\n      <th>50871</th>\n      <td>CCG</td>\n      <td>X2C4Y</td>\n      <td>Kirklees</td>\n      <td>Yorkshire and Humber</td>\n      <td>West Yorkshire and Harrogate Health &amp; Care Par...</td>\n      <td>North East and Yorkshire</td>\n      <td>2022</td>\n      <td>6</td>\n      <td>Community-onset, community associated</td>\n      <td>15</td>\n      <td>NaN</td>\n    </tr>\n    <tr>\n      <th>55169</th>\n      <td>CCG</td>\n      <td>X2C4Y</td>\n      <td>Kirklees</td>\n      <td>Yorkshire and Humber</td>\n      <td>West Yorkshire and Harrogate Health &amp; Care Par...</td>\n      <td>North East and Yorkshire</td>\n      <td>2022</td>\n      <td>8</td>\n      <td>Community-onset, community associated</td>\n      <td>17</td>\n      <td>NaN</td>\n    </tr>\n    <tr>\n      <th>55176</th>\n      <td>CCG</td>\n      <td>X2C4Y</td>\n      <td>Kirklees</td>\n      <td>Yorkshire and Humber</td>\n      <td>West Yorkshire and Harrogate Health &amp; Care Par...</td>\n      <td>North East and Yorkshire</td>\n      <td>2022</td>\n      <td>7</td>\n      <td>Community-onset, community associated</td>\n      <td>17</td>\n      <td>NaN</td>\n    </tr>\n    <tr>\n      <th>59375</th>\n      <td>CCG</td>\n      <td>X2C4Y</td>\n      <td>Kirklees</td>\n      <td>Yorkshire and Humber</td>\n      <td>West Yorkshire and Harrogate Health &amp; Care Par...</td>\n      <td>North East and Yorkshire</td>\n      <td>2022</td>\n      <td>9</td>\n      <td>Community-onset, community associated</td>\n      <td>19</td>\n      <td>NaN</td>\n    </tr>\n    <tr>\n      <th>59376</th>\n      <td>CCG</td>\n      <td>X2C4Y</td>\n      <td>Kirklees</td>\n      <td>Yorkshire and Humber</td>\n      <td>West Yorkshire and Harrogate Health &amp; Care Par...</td>\n      <td>North East and Yorkshire</td>\n      <td>2022</td>\n      <td>8</td>\n      <td>Community-onset, community associated</td>\n      <td>18</td>\n      <td>NaN</td>\n    </tr>\n    <tr>\n      <th>84769</th>\n      <td>CCG</td>\n      <td>X2C4Y</td>\n      <td>Kirklees</td>\n      <td>NaN</td>\n      <td>West Yorkshire and Harrogate Health &amp; Care Par...</td>\n      <td>North East and Yorkshire</td>\n      <td>2022</td>\n      <td>2</td>\n      <td>Community-onset, community associated</td>\n      <td>18</td>\n      <td>Yorkshire and Humber</td>\n    </tr>\n    <tr>\n      <th>84777</th>\n      <td>CCG</td>\n      <td>X2C4Y</td>\n      <td>Kirklees</td>\n      <td>NaN</td>\n      <td>West Yorkshire and Harrogate Health &amp; Care Par...</td>\n      <td>North East and Yorkshire</td>\n      <td>2022</td>\n      <td>6</td>\n      <td>Community-onset, community associated</td>\n      <td>15</td>\n      <td>Yorkshire and Humber</td>\n    </tr>\n    <tr>\n      <th>84798</th>\n      <td>CCG</td>\n      <td>X2C4Y</td>\n      <td>Kirklees</td>\n      <td>NaN</td>\n      <td>West Yorkshire and Harrogate Health &amp; Care Par...</td>\n      <td>North East and Yorkshire</td>\n      <td>2022</td>\n      <td>9</td>\n      <td>Community-onset, community associated</td>\n      <td>19</td>\n      <td>Yorkshire and Humber</td>\n    </tr>\n    <tr>\n      <th>84808</th>\n      <td>CCG</td>\n      <td>X2C4Y</td>\n      <td>Kirklees</td>\n      <td>NaN</td>\n      <td>West Yorkshire and Harrogate Health &amp; Care Par...</td>\n      <td>North East and Yorkshire</td>\n      <td>2021</td>\n      <td>12</td>\n      <td>Community-onset, community associated</td>\n      <td>9</td>\n      <td>Yorkshire and Humber</td>\n    </tr>\n    <tr>\n      <th>84816</th>\n      <td>CCG</td>\n      <td>X2C4Y</td>\n      <td>Kirklees</td>\n      <td>NaN</td>\n      <td>West Yorkshire and Harrogate Health &amp; Care Par...</td>\n      <td>North East and Yorkshire</td>\n      <td>2021</td>\n      <td>11</td>\n      <td>Community-onset, community associated</td>\n      <td>18</td>\n      <td>Yorkshire and Humber</td>\n    </tr>\n    <tr>\n      <th>84819</th>\n      <td>CCG</td>\n      <td>X2C4Y</td>\n      <td>Kirklees</td>\n      <td>NaN</td>\n      <td>West Yorkshire and Harrogate Health &amp; Care Par...</td>\n      <td>North East and Yorkshire</td>\n      <td>2022</td>\n      <td>7</td>\n      <td>Community-onset, community associated</td>\n      <td>17</td>\n      <td>Yorkshire and Humber</td>\n    </tr>\n    <tr>\n      <th>84828</th>\n      <td>CCG</td>\n      <td>X2C4Y</td>\n      <td>Kirklees</td>\n      <td>NaN</td>\n      <td>West Yorkshire and Harrogate Health &amp; Care Par...</td>\n      <td>North East and Yorkshire</td>\n      <td>2022</td>\n      <td>8</td>\n      <td>Community-onset, community associated</td>\n      <td>18</td>\n      <td>Yorkshire and Humber</td>\n    </tr>\n    <tr>\n      <th>84838</th>\n      <td>CCG</td>\n      <td>X2C4Y</td>\n      <td>Kirklees</td>\n      <td>NaN</td>\n      <td>West Yorkshire and Harrogate Health &amp; Care Par...</td>\n      <td>North East and Yorkshire</td>\n      <td>2022</td>\n      <td>5</td>\n      <td>Community-onset, community associated</td>\n      <td>19</td>\n      <td>Yorkshire and Humber</td>\n    </tr>\n    <tr>\n      <th>84839</th>\n      <td>CCG</td>\n      <td>X2C4Y</td>\n      <td>Kirklees</td>\n      <td>NaN</td>\n      <td>West Yorkshire and Harrogate Health &amp; Care Par...</td>\n      <td>North East and Yorkshire</td>\n      <td>2022</td>\n      <td>3</td>\n      <td>Community-onset, community associated</td>\n      <td>20</td>\n      <td>Yorkshire and Humber</td>\n    </tr>\n    <tr>\n      <th>84841</th>\n      <td>CCG</td>\n      <td>X2C4Y</td>\n      <td>Kirklees</td>\n      <td>NaN</td>\n      <td>West Yorkshire and Harrogate Health &amp; Care Par...</td>\n      <td>North East and Yorkshire</td>\n      <td>2022</td>\n      <td>1</td>\n      <td>Community-onset, community associated</td>\n      <td>15</td>\n      <td>Yorkshire and Humber</td>\n    </tr>\n    <tr>\n      <th>84843</th>\n      <td>CCG</td>\n      <td>X2C4Y</td>\n      <td>Kirklees</td>\n      <td>NaN</td>\n      <td>West Yorkshire and Harrogate Health &amp; Care Par...</td>\n      <td>North East and Yorkshire</td>\n      <td>2021</td>\n      <td>10</td>\n      <td>Community-onset, community associated</td>\n      <td>20</td>\n      <td>Yorkshire and Humber</td>\n    </tr>\n    <tr>\n      <th>84858</th>\n      <td>CCG</td>\n      <td>X2C4Y</td>\n      <td>Kirklees</td>\n      <td>NaN</td>\n      <td>West Yorkshire and Harrogate Health &amp; Care Par...</td>\n      <td>North East and Yorkshire</td>\n      <td>2022</td>\n      <td>10</td>\n      <td>Community-onset, community associated</td>\n      <td>11</td>\n      <td>Yorkshire and Humber</td>\n    </tr>\n    <tr>\n      <th>84868</th>\n      <td>CCG</td>\n      <td>X2C4Y</td>\n      <td>Kirklees</td>\n      <td>NaN</td>\n      <td>West Yorkshire and Harrogate Health &amp; Care Par...</td>\n      <td>North East and Yorkshire</td>\n      <td>2022</td>\n      <td>4</td>\n      <td>Community-onset, community associated</td>\n      <td>14</td>\n      <td>Yorkshire and Humber</td>\n    </tr>\n    <tr>\n      <th>88897</th>\n      <td>CCG</td>\n      <td>X2C4Y</td>\n      <td>Kirklees</td>\n      <td>NaN</td>\n      <td>West Yorkshire and Harrogate Health &amp; Care Par...</td>\n      <td>North East and Yorkshire</td>\n      <td>2022</td>\n      <td>11</td>\n      <td>Community-onset, community associated</td>\n      <td>23</td>\n      <td>Yorkshire and Humber</td>\n    </tr>\n    <tr>\n      <th>88900</th>\n      <td>CCG</td>\n      <td>X2C4Y</td>\n      <td>Kirklees</td>\n      <td>NaN</td>\n      <td>West Yorkshire and Harrogate Health &amp; Care Par...</td>\n      <td>North East and Yorkshire</td>\n      <td>2022</td>\n      <td>10</td>\n      <td>Community-onset, community associated</td>\n      <td>11</td>\n      <td>Yorkshire and Humber</td>\n    </tr>\n    <tr>\n      <th>93045</th>\n      <td>CCG</td>\n      <td>X2C4Y</td>\n      <td>Kirklees</td>\n      <td>NaN</td>\n      <td>West Yorkshire and Harrogate Health &amp; Care Par...</td>\n      <td>North East and Yorkshire</td>\n      <td>2022</td>\n      <td>12</td>\n      <td>Community-onset, community associated</td>\n      <td>8</td>\n      <td>Yorkshire and Humber</td>\n    </tr>\n    <tr>\n      <th>93050</th>\n      <td>CCG</td>\n      <td>X2C4Y</td>\n      <td>Kirklees</td>\n      <td>NaN</td>\n      <td>West Yorkshire and Harrogate Health &amp; Care Par...</td>\n      <td>North East and Yorkshire</td>\n      <td>2022</td>\n      <td>11</td>\n      <td>Community-onset, community associated</td>\n      <td>23</td>\n      <td>Yorkshire and Humber</td>\n    </tr>\n  </tbody>\n</table>\n</div>"
     },
     "execution_count": 108,
     "metadata": {},
     "output_type": "execute_result"
    }
   ],
   "source": [
    "jan2022 = pd.read_csv(\"data\\\\Jan2022.csv\")\n",
    "feb2022 = pd.read_csv(\"data\\\\Feb2022.csv\")\n",
    "mar2022 = pd.read_csv(\"data\\\\March2022.csv\")\n",
    "apr2022 = pd.read_csv(\"data\\\\Apr2022.csv\")\n",
    "may2022 = pd.read_csv(\"data\\\\May2022.csv\")\n",
    "june2022 = pd.read_csv(\"data\\\\June2022.csv\")\n",
    "july2022 = pd.read_csv(\"data\\\\July2022.csv\")\n",
    "aug2022 = pd.read_csv(\"data\\\\Aug2022.csv\")\n",
    "sept2022 = pd.read_csv(\"data\\\\Sept2022.csv\")\n",
    "oct2022 = pd.read_csv(\"data\\\\Oct2022.csv\")\n",
    "nov2022 = pd.read_csv(\"data\\\\Nov2022.csv\")\n",
    "dec2022 = pd.read_csv(\"data\\\\Dec2022.csv\")\n",
    "\n",
    "df2022 = pd.concat([jan2022,feb2022, mar2022, apr2022, may2022, june2022, july2022, aug2022, sept2022, oct2022, nov2022, dec2022]).drop_duplicates().reset_index(drop=True).drop([\"Data signed off\", \"Data changed since last publication?\", \"Collection\"], axis=1)\n",
    "\n",
    "df2022[(df2022[\"Organisation name\"] == \" Kirklees\") & (df2022[\"Metric\"] == \"Community-onset, community associated\")]\n"
   ],
   "metadata": {
    "collapsed": false,
    "ExecuteTime": {
     "end_time": "2024-07-20T05:22:09.927869400Z",
     "start_time": "2024-07-20T05:22:08.989127200Z"
    }
   },
   "id": "9d48d0769ab4e2a9"
  },
  {
   "cell_type": "code",
   "execution_count": 131,
   "outputs": [
    {
     "data": {
      "text/plain": "array(['Community-onset, community associated',\n       'Community-onset, healthcare associated', 'Unknown', 'Total cases',\n       'Hospital-onset, healthcare associated', 'No information',\n       'Community-onset', 'Hospital-onset'], dtype=object)"
     },
     "execution_count": 131,
     "metadata": {},
     "output_type": "execute_result"
    }
   ],
   "source": [
    "jan2023 = pd.read_csv(\"data\\\\Jan2023.csv\")\n",
    "feb2023 = pd.read_csv(\"data\\\\Feb2023.csv\")\n",
    "mar2023 = pd.read_csv(\"data\\\\March2023.csv\")\n",
    "apr2023 = pd.read_csv(\"data\\\\Apr2023.csv\")\n",
    "may2023 = pd.read_csv(\"data\\\\May2023.csv\")\n",
    "june2023 = pd.read_csv(\"data\\\\June2023.csv\")\n",
    "july2023 = pd.read_csv(\"data\\\\July2023.csv\")\n",
    "aug2023 = pd.read_csv(\"data\\\\Aug2023.csv\")\n",
    "sept2023 = pd.read_csv(\"data\\\\Sept2023.csv\")\n",
    "oct2023 = pd.read_csv(\"data\\\\Oct2023.csv\")\n",
    "nov2023 = pd.read_csv(\"data\\\\Nov2023.csv\")\n",
    "dec2023 = pd.read_csv(\"data\\\\Dec2023.csv\")\n",
    "\n",
    "df2023 = pd.concat([jan2023,feb2023, mar2023, apr2023, may2023, june2023, july2023, aug2023, sept2023, oct2023, nov2023, dec2023]).drop_duplicates().reset_index(drop=True).drop([\"Data signed off\", \"Data changed since last publication?\", \"Collection\"], axis=1) \n",
    "\n",
    "df2023.head()"
   ],
   "metadata": {
    "collapsed": false,
    "ExecuteTime": {
     "end_time": "2024-07-20T05:34:49.500775400Z",
     "start_time": "2024-07-20T05:34:48.680653700Z"
    }
   },
   "id": "858f17bb46964533"
  },
  {
   "cell_type": "code",
   "execution_count": 106,
   "outputs": [
    {
     "data": {
      "text/plain": "      Organisation type Organisation code               Organisation name  \\\n25072         Sub - ICB             X2C4Y  NHS WEST YORKSHIRE ICB - X2C4Y   \n25096         Sub - ICB             X2C4Y  NHS WEST YORKSHIRE ICB - X2C4Y   \n25097         Sub - ICB             X2C4Y  NHS WEST YORKSHIRE ICB - X2C4Y   \n25163         Sub - ICB             X2C4Y  NHS WEST YORKSHIRE ICB - X2C4Y   \n25166         Sub - ICB             X2C4Y  NHS WEST YORKSHIRE ICB - X2C4Y   \n25170         Sub - ICB             X2C4Y  NHS WEST YORKSHIRE ICB - X2C4Y   \n25183         Sub - ICB             X2C4Y  NHS WEST YORKSHIRE ICB - X2C4Y   \n25184         Sub - ICB             X2C4Y  NHS WEST YORKSHIRE ICB - X2C4Y   \n25195         Sub - ICB             X2C4Y  NHS WEST YORKSHIRE ICB - X2C4Y   \n25197         Sub - ICB             X2C4Y  NHS WEST YORKSHIRE ICB - X2C4Y   \n25224         Sub - ICB             X2C4Y  NHS WEST YORKSHIRE ICB - X2C4Y   \n25229         Sub - ICB             X2C4Y  NHS WEST YORKSHIRE ICB - X2C4Y   \n25230         Sub - ICB             X2C4Y  NHS WEST YORKSHIRE ICB - X2C4Y   \n29292         Sub - ICB             X2C4Y  NHS WEST YORKSHIRE ICB - X2C4Y   \n29300         Sub - ICB             X2C4Y  NHS WEST YORKSHIRE ICB - X2C4Y   \n33328         Sub - ICB             X2C4Y  NHS WEST YORKSHIRE ICB - X2C4Y   \n33336         Sub - ICB             X2C4Y  NHS WEST YORKSHIRE ICB - X2C4Y   \n37440         Sub - ICB             X2C4Y  NHS WEST YORKSHIRE ICB - X2C4Y   \n37459         Sub - ICB             X2C4Y  NHS WEST YORKSHIRE ICB - X2C4Y   \n41595         Sub - ICB             X2C4Y  NHS WEST YORKSHIRE ICB - X2C4Y   \n41611         Sub - ICB             X2C4Y  NHS WEST YORKSHIRE ICB - X2C4Y   \n41614         Sub - ICB             X2C4Y  NHS WEST YORKSHIRE ICB - X2C4Y   \n\n               UKHSA Centre                                       ICB  \\\n25072  Yorkshire and Humber  NHS West Yorkshire Integrated Care Board   \n25096  Yorkshire and Humber  NHS West Yorkshire Integrated Care Board   \n25097  Yorkshire and Humber  NHS West Yorkshire Integrated Care Board   \n25163  Yorkshire and Humber  NHS West Yorkshire Integrated Care Board   \n25166  Yorkshire and Humber  NHS West Yorkshire Integrated Care Board   \n25170  Yorkshire and Humber  NHS West Yorkshire Integrated Care Board   \n25183  Yorkshire and Humber  NHS West Yorkshire Integrated Care Board   \n25184  Yorkshire and Humber  NHS West Yorkshire Integrated Care Board   \n25195  Yorkshire and Humber  NHS West Yorkshire Integrated Care Board   \n25197  Yorkshire and Humber  NHS West Yorkshire Integrated Care Board   \n25224  Yorkshire and Humber  NHS West Yorkshire Integrated Care Board   \n25229  Yorkshire and Humber  NHS West Yorkshire Integrated Care Board   \n25230  Yorkshire and Humber  NHS West Yorkshire Integrated Care Board   \n29292  Yorkshire and Humber  NHS West Yorkshire Integrated Care Board   \n29300  Yorkshire and Humber  NHS West Yorkshire Integrated Care Board   \n33328  Yorkshire and Humber  NHS West Yorkshire Integrated Care Board   \n33336  Yorkshire and Humber  NHS West Yorkshire Integrated Care Board   \n37440  Yorkshire and Humber  NHS West Yorkshire Integrated Care Board   \n37459  Yorkshire and Humber  NHS West Yorkshire Integrated Care Board   \n41595  Yorkshire and Humber  NHS West Yorkshire Integrated Care Board   \n41611  Yorkshire and Humber  NHS West Yorkshire Integrated Care Board   \n41614  Yorkshire and Humber  NHS West Yorkshire Integrated Care Board   \n\n                    Region name  Year  Month           Metric  Figure  \n25072  North East and Yorkshire  2023      6  Community-onset      20  \n25096  North East and Yorkshire  2023      9  Community-onset      24  \n25097  North East and Yorkshire  2024      1  Community-onset      18  \n25163  North East and Yorkshire  2023      5  Community-onset      22  \n25166  North East and Yorkshire  2023      1  Community-onset      20  \n25170  North East and Yorkshire  2023      4  Community-onset      19  \n25183  North East and Yorkshire  2023      7  Community-onset      17  \n25184  North East and Yorkshire  2023      2  Community-onset      19  \n25195  North East and Yorkshire  2023     10  Community-onset      24  \n25197  North East and Yorkshire  2023      3  Community-onset      12  \n25224  North East and Yorkshire  2023     11  Community-onset      10  \n25229  North East and Yorkshire  2023      8  Community-onset      25  \n25230  North East and Yorkshire  2023     12  Community-onset      21  \n29292  North East and Yorkshire  2024      1  Community-onset      18  \n29300  North East and Yorkshire  2024      2  Community-onset      20  \n33328  North East and Yorkshire  2024      2  Community-onset      20  \n33336  North East and Yorkshire  2024      3  Community-onset      23  \n37440  North East and Yorkshire  2024      4  Community-onset      19  \n37459  North East and Yorkshire  2024      3  Community-onset      24  \n41595  North East and Yorkshire  2024      4  Community-onset      19  \n41611  North East and Yorkshire  2024      3  Community-onset      24  \n41614  North East and Yorkshire  2024      5  Community-onset      26  ",
      "text/html": "<div>\n<style scoped>\n    .dataframe tbody tr th:only-of-type {\n        vertical-align: middle;\n    }\n\n    .dataframe tbody tr th {\n        vertical-align: top;\n    }\n\n    .dataframe thead th {\n        text-align: right;\n    }\n</style>\n<table border=\"1\" class=\"dataframe\">\n  <thead>\n    <tr style=\"text-align: right;\">\n      <th></th>\n      <th>Organisation type</th>\n      <th>Organisation code</th>\n      <th>Organisation name</th>\n      <th>UKHSA Centre</th>\n      <th>ICB</th>\n      <th>Region name</th>\n      <th>Year</th>\n      <th>Month</th>\n      <th>Metric</th>\n      <th>Figure</th>\n    </tr>\n  </thead>\n  <tbody>\n    <tr>\n      <th>25072</th>\n      <td>Sub - ICB</td>\n      <td>X2C4Y</td>\n      <td>NHS WEST YORKSHIRE ICB - X2C4Y</td>\n      <td>Yorkshire and Humber</td>\n      <td>NHS West Yorkshire Integrated Care Board</td>\n      <td>North East and Yorkshire</td>\n      <td>2023</td>\n      <td>6</td>\n      <td>Community-onset</td>\n      <td>20</td>\n    </tr>\n    <tr>\n      <th>25096</th>\n      <td>Sub - ICB</td>\n      <td>X2C4Y</td>\n      <td>NHS WEST YORKSHIRE ICB - X2C4Y</td>\n      <td>Yorkshire and Humber</td>\n      <td>NHS West Yorkshire Integrated Care Board</td>\n      <td>North East and Yorkshire</td>\n      <td>2023</td>\n      <td>9</td>\n      <td>Community-onset</td>\n      <td>24</td>\n    </tr>\n    <tr>\n      <th>25097</th>\n      <td>Sub - ICB</td>\n      <td>X2C4Y</td>\n      <td>NHS WEST YORKSHIRE ICB - X2C4Y</td>\n      <td>Yorkshire and Humber</td>\n      <td>NHS West Yorkshire Integrated Care Board</td>\n      <td>North East and Yorkshire</td>\n      <td>2024</td>\n      <td>1</td>\n      <td>Community-onset</td>\n      <td>18</td>\n    </tr>\n    <tr>\n      <th>25163</th>\n      <td>Sub - ICB</td>\n      <td>X2C4Y</td>\n      <td>NHS WEST YORKSHIRE ICB - X2C4Y</td>\n      <td>Yorkshire and Humber</td>\n      <td>NHS West Yorkshire Integrated Care Board</td>\n      <td>North East and Yorkshire</td>\n      <td>2023</td>\n      <td>5</td>\n      <td>Community-onset</td>\n      <td>22</td>\n    </tr>\n    <tr>\n      <th>25166</th>\n      <td>Sub - ICB</td>\n      <td>X2C4Y</td>\n      <td>NHS WEST YORKSHIRE ICB - X2C4Y</td>\n      <td>Yorkshire and Humber</td>\n      <td>NHS West Yorkshire Integrated Care Board</td>\n      <td>North East and Yorkshire</td>\n      <td>2023</td>\n      <td>1</td>\n      <td>Community-onset</td>\n      <td>20</td>\n    </tr>\n    <tr>\n      <th>25170</th>\n      <td>Sub - ICB</td>\n      <td>X2C4Y</td>\n      <td>NHS WEST YORKSHIRE ICB - X2C4Y</td>\n      <td>Yorkshire and Humber</td>\n      <td>NHS West Yorkshire Integrated Care Board</td>\n      <td>North East and Yorkshire</td>\n      <td>2023</td>\n      <td>4</td>\n      <td>Community-onset</td>\n      <td>19</td>\n    </tr>\n    <tr>\n      <th>25183</th>\n      <td>Sub - ICB</td>\n      <td>X2C4Y</td>\n      <td>NHS WEST YORKSHIRE ICB - X2C4Y</td>\n      <td>Yorkshire and Humber</td>\n      <td>NHS West Yorkshire Integrated Care Board</td>\n      <td>North East and Yorkshire</td>\n      <td>2023</td>\n      <td>7</td>\n      <td>Community-onset</td>\n      <td>17</td>\n    </tr>\n    <tr>\n      <th>25184</th>\n      <td>Sub - ICB</td>\n      <td>X2C4Y</td>\n      <td>NHS WEST YORKSHIRE ICB - X2C4Y</td>\n      <td>Yorkshire and Humber</td>\n      <td>NHS West Yorkshire Integrated Care Board</td>\n      <td>North East and Yorkshire</td>\n      <td>2023</td>\n      <td>2</td>\n      <td>Community-onset</td>\n      <td>19</td>\n    </tr>\n    <tr>\n      <th>25195</th>\n      <td>Sub - ICB</td>\n      <td>X2C4Y</td>\n      <td>NHS WEST YORKSHIRE ICB - X2C4Y</td>\n      <td>Yorkshire and Humber</td>\n      <td>NHS West Yorkshire Integrated Care Board</td>\n      <td>North East and Yorkshire</td>\n      <td>2023</td>\n      <td>10</td>\n      <td>Community-onset</td>\n      <td>24</td>\n    </tr>\n    <tr>\n      <th>25197</th>\n      <td>Sub - ICB</td>\n      <td>X2C4Y</td>\n      <td>NHS WEST YORKSHIRE ICB - X2C4Y</td>\n      <td>Yorkshire and Humber</td>\n      <td>NHS West Yorkshire Integrated Care Board</td>\n      <td>North East and Yorkshire</td>\n      <td>2023</td>\n      <td>3</td>\n      <td>Community-onset</td>\n      <td>12</td>\n    </tr>\n    <tr>\n      <th>25224</th>\n      <td>Sub - ICB</td>\n      <td>X2C4Y</td>\n      <td>NHS WEST YORKSHIRE ICB - X2C4Y</td>\n      <td>Yorkshire and Humber</td>\n      <td>NHS West Yorkshire Integrated Care Board</td>\n      <td>North East and Yorkshire</td>\n      <td>2023</td>\n      <td>11</td>\n      <td>Community-onset</td>\n      <td>10</td>\n    </tr>\n    <tr>\n      <th>25229</th>\n      <td>Sub - ICB</td>\n      <td>X2C4Y</td>\n      <td>NHS WEST YORKSHIRE ICB - X2C4Y</td>\n      <td>Yorkshire and Humber</td>\n      <td>NHS West Yorkshire Integrated Care Board</td>\n      <td>North East and Yorkshire</td>\n      <td>2023</td>\n      <td>8</td>\n      <td>Community-onset</td>\n      <td>25</td>\n    </tr>\n    <tr>\n      <th>25230</th>\n      <td>Sub - ICB</td>\n      <td>X2C4Y</td>\n      <td>NHS WEST YORKSHIRE ICB - X2C4Y</td>\n      <td>Yorkshire and Humber</td>\n      <td>NHS West Yorkshire Integrated Care Board</td>\n      <td>North East and Yorkshire</td>\n      <td>2023</td>\n      <td>12</td>\n      <td>Community-onset</td>\n      <td>21</td>\n    </tr>\n    <tr>\n      <th>29292</th>\n      <td>Sub - ICB</td>\n      <td>X2C4Y</td>\n      <td>NHS WEST YORKSHIRE ICB - X2C4Y</td>\n      <td>Yorkshire and Humber</td>\n      <td>NHS West Yorkshire Integrated Care Board</td>\n      <td>North East and Yorkshire</td>\n      <td>2024</td>\n      <td>1</td>\n      <td>Community-onset</td>\n      <td>18</td>\n    </tr>\n    <tr>\n      <th>29300</th>\n      <td>Sub - ICB</td>\n      <td>X2C4Y</td>\n      <td>NHS WEST YORKSHIRE ICB - X2C4Y</td>\n      <td>Yorkshire and Humber</td>\n      <td>NHS West Yorkshire Integrated Care Board</td>\n      <td>North East and Yorkshire</td>\n      <td>2024</td>\n      <td>2</td>\n      <td>Community-onset</td>\n      <td>20</td>\n    </tr>\n    <tr>\n      <th>33328</th>\n      <td>Sub - ICB</td>\n      <td>X2C4Y</td>\n      <td>NHS WEST YORKSHIRE ICB - X2C4Y</td>\n      <td>Yorkshire and Humber</td>\n      <td>NHS West Yorkshire Integrated Care Board</td>\n      <td>North East and Yorkshire</td>\n      <td>2024</td>\n      <td>2</td>\n      <td>Community-onset</td>\n      <td>20</td>\n    </tr>\n    <tr>\n      <th>33336</th>\n      <td>Sub - ICB</td>\n      <td>X2C4Y</td>\n      <td>NHS WEST YORKSHIRE ICB - X2C4Y</td>\n      <td>Yorkshire and Humber</td>\n      <td>NHS West Yorkshire Integrated Care Board</td>\n      <td>North East and Yorkshire</td>\n      <td>2024</td>\n      <td>3</td>\n      <td>Community-onset</td>\n      <td>23</td>\n    </tr>\n    <tr>\n      <th>37440</th>\n      <td>Sub - ICB</td>\n      <td>X2C4Y</td>\n      <td>NHS WEST YORKSHIRE ICB - X2C4Y</td>\n      <td>Yorkshire and Humber</td>\n      <td>NHS West Yorkshire Integrated Care Board</td>\n      <td>North East and Yorkshire</td>\n      <td>2024</td>\n      <td>4</td>\n      <td>Community-onset</td>\n      <td>19</td>\n    </tr>\n    <tr>\n      <th>37459</th>\n      <td>Sub - ICB</td>\n      <td>X2C4Y</td>\n      <td>NHS WEST YORKSHIRE ICB - X2C4Y</td>\n      <td>Yorkshire and Humber</td>\n      <td>NHS West Yorkshire Integrated Care Board</td>\n      <td>North East and Yorkshire</td>\n      <td>2024</td>\n      <td>3</td>\n      <td>Community-onset</td>\n      <td>24</td>\n    </tr>\n    <tr>\n      <th>41595</th>\n      <td>Sub - ICB</td>\n      <td>X2C4Y</td>\n      <td>NHS WEST YORKSHIRE ICB - X2C4Y</td>\n      <td>Yorkshire and Humber</td>\n      <td>NHS West Yorkshire Integrated Care Board</td>\n      <td>North East and Yorkshire</td>\n      <td>2024</td>\n      <td>4</td>\n      <td>Community-onset</td>\n      <td>19</td>\n    </tr>\n    <tr>\n      <th>41611</th>\n      <td>Sub - ICB</td>\n      <td>X2C4Y</td>\n      <td>NHS WEST YORKSHIRE ICB - X2C4Y</td>\n      <td>Yorkshire and Humber</td>\n      <td>NHS West Yorkshire Integrated Care Board</td>\n      <td>North East and Yorkshire</td>\n      <td>2024</td>\n      <td>3</td>\n      <td>Community-onset</td>\n      <td>24</td>\n    </tr>\n    <tr>\n      <th>41614</th>\n      <td>Sub - ICB</td>\n      <td>X2C4Y</td>\n      <td>NHS WEST YORKSHIRE ICB - X2C4Y</td>\n      <td>Yorkshire and Humber</td>\n      <td>NHS West Yorkshire Integrated Care Board</td>\n      <td>North East and Yorkshire</td>\n      <td>2024</td>\n      <td>5</td>\n      <td>Community-onset</td>\n      <td>26</td>\n    </tr>\n  </tbody>\n</table>\n</div>"
     },
     "execution_count": 106,
     "metadata": {},
     "output_type": "execute_result"
    }
   ],
   "source": [
    "jan2024 = pd.read_csv(\"data\\\\Jan2024.csv\")\n",
    "feb2024 = pd.read_csv(\"data\\\\Feb2024.csv\")\n",
    "mar2024 = pd.read_csv(\"data\\\\March2024.csv\")\n",
    "apr2024 = pd.read_csv(\"data\\\\Apr2024.csv\")\n",
    "may2024 = pd.read_csv(\"data\\\\May2024.csv\")\n",
    "\n",
    "df2024 = pd.concat([jan2024,feb2024, mar2024, apr2024, may2024]).drop_duplicates().reset_index(drop=True).drop([\"Data signed off\", \"Data changed since last publication?\", \"Collection\"], axis=1)\n"
   ],
   "metadata": {
    "collapsed": false,
    "ExecuteTime": {
     "end_time": "2024-07-20T05:20:15.009409100Z",
     "start_time": "2024-07-20T05:20:14.700652800Z"
    }
   },
   "id": "f59a7f67e13c43ce"
  },
  {
   "cell_type": "code",
   "execution_count": 140,
   "outputs": [],
   "source": [
    "df = pd.concat([df2024, df2023, df2022, df2021, df2020, df2019]).drop_duplicates().reset_index(drop=True)\n",
    "\n",
    "table = df.pivot_table(values=\"Figure\", index=[\"Organisation code\", \"Year\", \"Month\", \"Organisation name\"], columns=\"Metric\").reset_index()\n",
    "\n",
    "metrics = ['Community-onset', 'Community-onset, community associated',\n",
    "          'Community-onset, healthcare associated',\n",
    "          'Community-onset, indeterminate association', 'Hospital-onset',\n",
    "          'Hospital-onset, healthcare associated', 'No information',\n",
    "          'Total cases', 'Unknown', 'Unknown 1 months', 'Unknown 3 months']\n",
    "\n",
    "table[metrics] = table[metrics].apply(np.floor)\n",
    "table = table.replace(np.nan, 0)\n",
    "table['Unknown'] = table[\"Unknown 1 months\"] + table[\"Unknown 3 months\"]\n",
    "table.drop([\"Unknown 3 months\", \"Unknown 1 months\"], axis=1, inplace=True)\n"
   ],
   "metadata": {
    "collapsed": false,
    "ExecuteTime": {
     "end_time": "2024-07-20T05:39:50.083296400Z",
     "start_time": "2024-07-20T05:39:49.457417800Z"
    }
   },
   "id": "26ad3efcd6892aa0"
  },
  {
   "cell_type": "code",
   "execution_count": 141,
   "outputs": [
    {
     "name": "stdout",
     "output_type": "stream",
     "text": [
      "ENG\n",
      "{'errorCode': 404, 'errorText': 'Not found'}\n"
     ]
    }
   ],
   "source": [
    "api_url = \"https://directory.spineservices.nhs.uk/ORD/2-0-0/organisations/\"\n",
    "uniques_code = set(table[\"Organisation code\"])\n",
    "code_dict = {}\n",
    "for code in uniques_code:\n",
    "    response = requests.get(api_url+code)\n",
    "    json = response.json()\n",
    "    if response.status_code == 200:\n",
    "        postcode = json[\"Organisation\"][\"GeoLoc\"][\"Location\"][\"PostCode\"]\n",
    "        code_dict.update({code:postcode})\n",
    "    else:\n",
    "        print(code)\n",
    "        print(json)\n",
    "\n",
    "table[\"zipcode\"] = table[\"Organisation code\"].apply(code_dict.get)\n"
   ],
   "metadata": {
    "collapsed": false,
    "ExecuteTime": {
     "end_time": "2024-07-20T05:43:24.863785600Z",
     "start_time": "2024-07-20T05:41:06.690936100Z"
    }
   },
   "id": "515f4f9103942dce"
  },
  {
   "cell_type": "code",
   "execution_count": 142,
   "outputs": [],
   "source": [
    "table.to_csv(\"C:\\\\Users\\\\samue\\\\DataspellProjects\\\\ecoli_analysis\\\\test.csv\")"
   ],
   "metadata": {
    "collapsed": false,
    "ExecuteTime": {
     "end_time": "2024-07-20T05:46:24.282653500Z",
     "start_time": "2024-07-20T05:46:24.173167800Z"
    }
   },
   "id": "7b5d0fcde7a08348"
  }
 ],
 "metadata": {
  "kernelspec": {
   "display_name": "Python 3",
   "language": "python",
   "name": "python3"
  },
  "language_info": {
   "codemirror_mode": {
    "name": "ipython",
    "version": 2
   },
   "file_extension": ".py",
   "mimetype": "text/x-python",
   "name": "python",
   "nbconvert_exporter": "python",
   "pygments_lexer": "ipython2",
   "version": "2.7.6"
  }
 },
 "nbformat": 4,
 "nbformat_minor": 5
}
