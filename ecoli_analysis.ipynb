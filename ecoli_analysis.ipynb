{
 "cells": [
  {
   "cell_type": "code",
   "execution_count": 30,
   "id": "initial_id",
   "metadata": {
    "collapsed": true,
    "ExecuteTime": {
     "end_time": "2024-07-23T03:31:09.685422600Z",
     "start_time": "2024-07-23T03:31:09.524029400Z"
    }
   },
   "outputs": [],
   "source": [
    "import pandas as pd\n",
    "import requests\n",
    "import numpy as np\n",
    "\n",
    "# Because NHS cannot properly write their dataset correctly, we are using the below functions to convert the dataset\n",
    "def generate_year_month(start_year, start_month, num_sets):\n",
    "    year, month = start_year, start_month\n",
    "    for _ in range(num_sets):\n",
    "        yield year, month\n",
    "        month += 1\n",
    "        if month > 12:\n",
    "            month = 1\n",
    "            year += 1\n",
    "\n",
    "def generate_df(df, year, month):\n",
    "    case_columns = df.columns[4:]\n",
    "    num_sets = len(case_columns) // 3\n",
    "\n",
    "    new_data = []\n",
    "    for _, row in df.iterrows():\n",
    "        base_info = row[:4].tolist()\n",
    "        year_month_gen = generate_year_month(year-1, month, num_sets)\n",
    "        for i in range(0, len(case_columns), 3):\n",
    "            year, month = next(year_month_gen)\n",
    "            new_data.extend([\n",
    "                base_info + [year, month, 'Total cases', row[case_columns[i]]],\n",
    "                base_info + [year, month, 'Hospital-onset', row[case_columns[i+1]]],\n",
    "                base_info + [year, month, 'Community-onset', row[case_columns[i+2]]]\n",
    "            ])\n",
    "\n",
    "    # Create the new DataFrame\n",
    "    new_columns = ['Organisation code', 'Organisation type', 'PHE Centre', 'Organisation name', 'Year', 'Month', 'Metric', 'Figure']\n",
    "    new_df  = pd.DataFrame(new_data, columns=new_columns)\n",
    "    new_df  = new_df.sort_values(['Organisation name', 'Year', 'Month', 'Metric'])\n",
    "    new_df  = new_df.reset_index(drop=True)\n",
    "    return new_df"
   ]
  },
  {
   "cell_type": "markdown",
   "source": [],
   "metadata": {
    "collapsed": false
   },
   "id": "c7e85d2a3c5679cc"
  },
  {
   "cell_type": "code",
   "execution_count": 40,
   "outputs": [
    {
     "data": {
      "text/plain": "  Organisation code Organisation type  PHE Centre  \\\n0               REM                FT  North West   \n1               REM                FT  North West   \n2               REM                FT  North West   \n3               REM                FT  North West   \n4               REM                FT  North West   \n\n             Organisation name  Year  Month           Metric Figure  \n0  Aintree University Hospital  2017      1  Community-onset     17  \n1  Aintree University Hospital  2017      1   Hospital-onset      7  \n2  Aintree University Hospital  2017      1      Total cases     24  \n3  Aintree University Hospital  2017      2  Community-onset     15  \n4  Aintree University Hospital  2017      2   Hospital-onset      3  ",
      "text/html": "<div>\n<style scoped>\n    .dataframe tbody tr th:only-of-type {\n        vertical-align: middle;\n    }\n\n    .dataframe tbody tr th {\n        vertical-align: top;\n    }\n\n    .dataframe thead th {\n        text-align: right;\n    }\n</style>\n<table border=\"1\" class=\"dataframe\">\n  <thead>\n    <tr style=\"text-align: right;\">\n      <th></th>\n      <th>Organisation code</th>\n      <th>Organisation type</th>\n      <th>PHE Centre</th>\n      <th>Organisation name</th>\n      <th>Year</th>\n      <th>Month</th>\n      <th>Metric</th>\n      <th>Figure</th>\n    </tr>\n  </thead>\n  <tbody>\n    <tr>\n      <th>0</th>\n      <td>REM</td>\n      <td>FT</td>\n      <td>North West</td>\n      <td>Aintree University Hospital</td>\n      <td>2017</td>\n      <td>1</td>\n      <td>Community-onset</td>\n      <td>17</td>\n    </tr>\n    <tr>\n      <th>1</th>\n      <td>REM</td>\n      <td>FT</td>\n      <td>North West</td>\n      <td>Aintree University Hospital</td>\n      <td>2017</td>\n      <td>1</td>\n      <td>Hospital-onset</td>\n      <td>7</td>\n    </tr>\n    <tr>\n      <th>2</th>\n      <td>REM</td>\n      <td>FT</td>\n      <td>North West</td>\n      <td>Aintree University Hospital</td>\n      <td>2017</td>\n      <td>1</td>\n      <td>Total cases</td>\n      <td>24</td>\n    </tr>\n    <tr>\n      <th>3</th>\n      <td>REM</td>\n      <td>FT</td>\n      <td>North West</td>\n      <td>Aintree University Hospital</td>\n      <td>2017</td>\n      <td>2</td>\n      <td>Community-onset</td>\n      <td>15</td>\n    </tr>\n    <tr>\n      <th>4</th>\n      <td>REM</td>\n      <td>FT</td>\n      <td>North West</td>\n      <td>Aintree University Hospital</td>\n      <td>2017</td>\n      <td>2</td>\n      <td>Hospital-onset</td>\n      <td>3</td>\n    </tr>\n  </tbody>\n</table>\n</div>"
     },
     "execution_count": 40,
     "metadata": {},
     "output_type": "execute_result"
    }
   ],
   "source": [
    "jan2018 = generate_df(pd.read_csv(\"data\\\\Jan2018.csv\"), 2018, 1)\n",
    "feb2018 = generate_df(pd.read_csv(\"data\\\\Feb2018.csv\"), 2018, 2)\n",
    "mar2018 = generate_df(pd.read_csv(\"data\\\\March2018.csv\"), 2018, 3)\n",
    "apr2018 = generate_df(pd.read_csv(\"data\\\\Apr2018.csv\"), 2018, 4)\n",
    "may2018 = generate_df(pd.read_csv(\"data\\\\May2018.csv\"), 2018, 5)\n",
    "june2018 = generate_df(pd.read_csv(\"data\\\\June2018.csv\"), 2018, 6)\n",
    "july2018 = generate_df(pd.read_csv(\"data\\\\July2018.csv\"), 2018, 7)\n",
    "aug2018 = generate_df(pd.read_csv(\"data\\\\Aug2018.csv\"), 2018, 8)\n",
    "sept2018 = generate_df(pd.read_csv(\"data\\\\Sept2018.csv\"), 2018, 9)\n",
    "oct2018 = generate_df(pd.read_csv(\"data\\\\Oct2018.csv\"), 2018, 10)\n",
    "nov2018 = generate_df(pd.read_csv(\"data\\\\Nov2018.csv\"), 2018, 11)\n",
    "dec2018 = generate_df(pd.read_csv(\"data\\\\Dec2018.csv\"), 2018, 12)\n",
    "\n",
    "df2018 = pd.concat([jan2018, feb2018, mar2018, apr2018, may2018, june2018, july2018, aug2018, sept2018, oct2018, nov2018, dec2018]).drop_duplicates().reset_index(drop=True)"
   ],
   "metadata": {
    "collapsed": false,
    "ExecuteTime": {
     "end_time": "2024-07-23T03:38:06.519020Z",
     "start_time": "2024-07-23T03:38:06.169411700Z"
    }
   },
   "id": "d37a94783401bb55"
  },
  {
   "cell_type": "code",
   "execution_count": null,
   "outputs": [],
   "source": [
    "jan2019 = pd.read_csv(\"data\\\\Jan2019.csv\")\n",
    "feb2019 = pd.read_csv(\"data\\\\Feb2019.csv\")\n",
    "mar2019 = pd.read_csv(\"data\\\\March2019.csv\")\n",
    "apr2019 = pd.read_csv(\"data\\\\Apr2019.csv\")\n",
    "may2019 = pd.read_csv(\"data\\\\May2019.csv\")\n",
    "june2019 = pd.read_csv(\"data\\\\June2019.csv\")\n",
    "july2019 = pd.read_csv(\"data\\\\July2019.csv\")\n",
    "aug2019 = pd.read_csv(\"data\\\\Aug2019.csv\")\n",
    "sept2019 = pd.read_csv(\"data\\\\Sept2019.csv\")\n",
    "oct2019 = pd.read_csv(\"data\\\\Oct2019.csv\")\n",
    "nov2019 = pd.read_csv(\"data\\\\Nov2019.csv\")\n",
    "dec2019 = pd.read_csv(\"data\\\\Dec2019.csv\")\n",
    "\n",
    "jan2019 = generate_df(jan2019, 2019, 1)\n",
    "feb2019 = generate_df(feb2019, 2019, 2)\n",
    "df2019 = pd.concat([jan2019, feb2019, mar2019, apr2019, may2019, june2019, july2019, aug2019, sept2019, oct2019, nov2019, dec2019]).drop_duplicates().reset_index(drop=True).drop([\"Data signed off\", \"Data changed since last publication?\", \"Collection\"], axis=1)\n",
    "\n",
    "df2019.head()"
   ],
   "metadata": {
    "collapsed": false,
    "ExecuteTime": {
     "start_time": "2024-07-23T03:31:09.843499700Z"
    }
   },
   "id": "2a010bcaa83962dc"
  },
  {
   "cell_type": "code",
   "execution_count": null,
   "outputs": [],
   "source": [
    "jan2020 = pd.read_csv(\"data\\\\Jan2020.csv\")\n",
    "feb2020 = pd.read_csv(\"data\\\\Feb2020.csv\")\n",
    "mar2020 = pd.read_csv(\"data\\\\March2020.csv\")\n",
    "apr2020 = pd.read_csv(\"data\\\\Apr2020.csv\")\n",
    "may2020 = pd.read_csv(\"data\\\\May2020.csv\")\n",
    "june2020 = pd.read_csv(\"data\\\\June2020.csv\")\n",
    "july2020 = pd.read_csv(\"data\\\\July2020.csv\")\n",
    "aug2020 = pd.read_csv(\"data\\\\Aug2020.csv\")\n",
    "sept2020 = pd.read_csv(\"data\\\\Sept2020.csv\")\n",
    "oct2020 = pd.read_csv(\"data\\\\Oct2020.csv\")\n",
    "nov2020 = pd.read_csv(\"data\\\\Nov2020.csv\")\n",
    "dec2020 = pd.read_csv(\"data\\\\Dec2020.csv\")\n",
    "\n",
    "\n",
    "df2020 = pd.concat([jan2020,feb2020, mar2020, apr2020, may2020, june2020, july2020, aug2020, sept2020, oct2020, nov2020, dec2020]).drop_duplicates().reset_index(drop=True).drop([\"Data signed off\", \"Data changed since last publication?\", \"Collection\", \"STP\"], axis=1)\n",
    "\n",
    "df2020.head()"
   ],
   "metadata": {
    "collapsed": false,
    "ExecuteTime": {
     "start_time": "2024-07-23T03:31:09.844496500Z"
    }
   },
   "id": "47a216c1ba9774d"
  },
  {
   "cell_type": "code",
   "execution_count": null,
   "outputs": [],
   "source": [
    "jan2021 = pd.read_csv(\"data\\\\Jan2021.csv\")\n",
    "feb2021 = pd.read_csv(\"data\\\\Feb2021.csv\")\n",
    "mar2021 = pd.read_csv(\"data\\\\March2021.csv\")\n",
    "apr2021 = pd.read_csv(\"data\\\\Apr2021.csv\")\n",
    "may2021 = pd.read_csv(\"data\\\\May2021.csv\")\n",
    "june2021 = pd.read_csv(\"data\\\\June2021.csv\")\n",
    "july2021 = pd.read_csv(\"data\\\\July2021.csv\")\n",
    "aug2021 = pd.read_csv(\"data\\\\Aug2021.csv\")\n",
    "sept2021 = pd.read_csv(\"data\\\\Sept2021.csv\")\n",
    "oct2021 = pd.read_csv(\"data\\\\Oct2021.csv\")\n",
    "nov2021 = pd.read_csv(\"data\\\\Nov2021.csv\")\n",
    "dec2021 = pd.read_csv(\"data\\\\Dec2021.csv\")\n",
    "\n",
    "df2021 = pd.concat([jan2021,feb2021, mar2021, apr2021, may2021, june2021, july2021, aug2021, sept2021, oct2021, nov2021, dec2021]).drop_duplicates().reset_index(drop=True).drop([\"Data signed off\", \"Data changed since last publication?\", \"Collection\"], axis=1)\n",
    "\n",
    "\n",
    "df2021.describe()"
   ],
   "metadata": {
    "collapsed": false,
    "ExecuteTime": {
     "start_time": "2024-07-23T03:31:09.846495400Z"
    }
   },
   "id": "6fe24358936ba8c9"
  },
  {
   "cell_type": "code",
   "execution_count": null,
   "outputs": [],
   "source": [
    "jan2022 = pd.read_csv(\"data\\\\Jan2022.csv\")\n",
    "feb2022 = pd.read_csv(\"data\\\\Feb2022.csv\")\n",
    "mar2022 = pd.read_csv(\"data\\\\March2022.csv\")\n",
    "apr2022 = pd.read_csv(\"data\\\\Apr2022.csv\")\n",
    "may2022 = pd.read_csv(\"data\\\\May2022.csv\")\n",
    "june2022 = pd.read_csv(\"data\\\\June2022.csv\")\n",
    "july2022 = pd.read_csv(\"data\\\\July2022.csv\")\n",
    "aug2022 = pd.read_csv(\"data\\\\Aug2022.csv\")\n",
    "sept2022 = pd.read_csv(\"data\\\\Sept2022.csv\")\n",
    "oct2022 = pd.read_csv(\"data\\\\Oct2022.csv\")\n",
    "nov2022 = pd.read_csv(\"data\\\\Nov2022.csv\")\n",
    "dec2022 = pd.read_csv(\"data\\\\Dec2022.csv\")\n",
    "\n",
    "df2022 = pd.concat([jan2022,feb2022, mar2022, apr2022, may2022, june2022, july2022, aug2022, sept2022, oct2022, nov2022, dec2022]).drop_duplicates().reset_index(drop=True).drop([\"Data signed off\", \"Data changed since last publication?\", \"Collection\"], axis=1)\n",
    "\n",
    "df2022[(df2022[\"Organisation name\"] == \" Kirklees\") & (df2022[\"Metric\"] == \"Community-onset, community associated\")]\n"
   ],
   "metadata": {
    "collapsed": false,
    "ExecuteTime": {
     "end_time": "2024-07-23T03:31:09.855495600Z",
     "start_time": "2024-07-23T03:31:09.847496300Z"
    }
   },
   "id": "9d48d0769ab4e2a9"
  },
  {
   "cell_type": "code",
   "execution_count": null,
   "outputs": [],
   "source": [
    "jan2023 = pd.read_csv(\"data\\\\Jan2023.csv\")\n",
    "feb2023 = pd.read_csv(\"data\\\\Feb2023.csv\")\n",
    "mar2023 = pd.read_csv(\"data\\\\March2023.csv\")\n",
    "apr2023 = pd.read_csv(\"data\\\\Apr2023.csv\")\n",
    "may2023 = pd.read_csv(\"data\\\\May2023.csv\")\n",
    "june2023 = pd.read_csv(\"data\\\\June2023.csv\")\n",
    "july2023 = pd.read_csv(\"data\\\\July2023.csv\")\n",
    "aug2023 = pd.read_csv(\"data\\\\Aug2023.csv\")\n",
    "sept2023 = pd.read_csv(\"data\\\\Sept2023.csv\")\n",
    "oct2023 = pd.read_csv(\"data\\\\Oct2023.csv\")\n",
    "nov2023 = pd.read_csv(\"data\\\\Nov2023.csv\")\n",
    "dec2023 = pd.read_csv(\"data\\\\Dec2023.csv\")\n",
    "\n",
    "df2023 = pd.concat([jan2023,feb2023, mar2023, apr2023, may2023, june2023, july2023, aug2023, sept2023, oct2023, nov2023, dec2023]).drop_duplicates().reset_index(drop=True).drop([\"Data signed off\", \"Data changed since last publication?\", \"Collection\"], axis=1) \n",
    "\n",
    "df2023.head()"
   ],
   "metadata": {
    "collapsed": false,
    "ExecuteTime": {
     "start_time": "2024-07-23T03:31:09.848496100Z"
    }
   },
   "id": "858f17bb46964533"
  },
  {
   "cell_type": "code",
   "execution_count": null,
   "outputs": [],
   "source": [
    "jan2024 = pd.read_csv(\"data\\\\Jan2024.csv\")\n",
    "feb2024 = pd.read_csv(\"data\\\\Feb2024.csv\")\n",
    "mar2024 = pd.read_csv(\"data\\\\March2024.csv\")\n",
    "apr2024 = pd.read_csv(\"data\\\\Apr2024.csv\")\n",
    "may2024 = pd.read_csv(\"data\\\\May2024.csv\")\n",
    "\n",
    "df2024 = pd.concat([jan2024,feb2024, mar2024, apr2024, may2024]).drop_duplicates().reset_index(drop=True).drop([\"Data signed off\", \"Data changed since last publication?\", \"Collection\"], axis=1)\n"
   ],
   "metadata": {
    "collapsed": false,
    "ExecuteTime": {
     "start_time": "2024-07-23T03:31:09.850496600Z"
    }
   },
   "id": "f59a7f67e13c43ce"
  },
  {
   "cell_type": "code",
   "execution_count": null,
   "outputs": [],
   "source": [
    "df = pd.concat([df2024, df2023, df2022, df2021, df2020, df2019]).drop_duplicates().reset_index(drop=True)\n",
    "\n",
    "table = df.pivot_table(values=\"Figure\", index=[\"Organisation code\", \"Year\", \"Month\", \"Organisation name\"], columns=\"Metric\").reset_index()\n",
    "\n",
    "metrics = ['Community-onset', 'Community-onset, community associated',\n",
    "          'Community-onset, healthcare associated',\n",
    "          'Community-onset, indeterminate association', 'Hospital-onset',\n",
    "          'Hospital-onset, healthcare associated', 'No information',\n",
    "          'Total cases', 'Unknown', 'Unknown 1 months', 'Unknown 3 months']\n",
    "\n",
    "table[metrics] = table[metrics].apply(np.floor)\n",
    "table = table.replace(np.nan, 0)\n",
    "table['Unknown'] = table[\"Unknown 1 months\"] + table[\"Unknown 3 months\"]\n",
    "table.drop([\"Unknown 3 months\", \"Unknown 1 months\"], axis=1, inplace=True)\n"
   ],
   "metadata": {
    "collapsed": false,
    "ExecuteTime": {
     "start_time": "2024-07-23T03:31:09.851508100Z"
    }
   },
   "id": "26ad3efcd6892aa0"
  },
  {
   "cell_type": "code",
   "execution_count": null,
   "outputs": [],
   "source": [
    "api_url = \"https://directory.spineservices.nhs.uk/ORD/2-0-0/organisations/\"\n",
    "uniques_code = set(table[\"Organisation code\"])\n",
    "code_dict = {}\n",
    "for code in uniques_code:\n",
    "    response = requests.get(api_url+code)\n",
    "    json = response.json()\n",
    "    if response.status_code == 200:\n",
    "        postcode = json[\"Organisation\"][\"GeoLoc\"][\"Location\"][\"PostCode\"]\n",
    "        code_dict.update({code:postcode})\n",
    "    else:\n",
    "        print(code)\n",
    "        print(json)\n",
    "\n",
    "table[\"zipcode\"] = table[\"Organisation code\"].apply(code_dict.get)\n"
   ],
   "metadata": {
    "collapsed": false,
    "ExecuteTime": {
     "start_time": "2024-07-23T03:31:09.852517700Z"
    }
   },
   "id": "515f4f9103942dce"
  },
  {
   "cell_type": "code",
   "execution_count": null,
   "outputs": [],
   "source": [
    "table.to_csv(\"C:\\\\Users\\\\samue\\\\DataspellProjects\\\\ecoli_analysis\\\\test.csv\")"
   ],
   "metadata": {
    "collapsed": false,
    "ExecuteTime": {
     "start_time": "2024-07-23T03:31:09.853495900Z"
    }
   },
   "id": "7b5d0fcde7a08348"
  }
 ],
 "metadata": {
  "kernelspec": {
   "display_name": "Python 3",
   "language": "python",
   "name": "python3"
  },
  "language_info": {
   "codemirror_mode": {
    "name": "ipython",
    "version": 2
   },
   "file_extension": ".py",
   "mimetype": "text/x-python",
   "name": "python",
   "nbconvert_exporter": "python",
   "pygments_lexer": "ipython2",
   "version": "2.7.6"
  }
 },
 "nbformat": 4,
 "nbformat_minor": 5
}
