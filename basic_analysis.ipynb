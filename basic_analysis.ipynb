{
 "cells": [
  {
   "cell_type": "code",
   "execution_count": 1,
   "id": "initial_id",
   "metadata": {
    "collapsed": true,
    "ExecuteTime": {
     "end_time": "2024-08-02T02:55:32.525226Z",
     "start_time": "2024-08-02T02:55:28.941169Z"
    }
   },
   "outputs": [],
   "source": [
    "import matplotlib\n",
    "import pandas as pd\n",
    "import matplotlib.pyplot as plt\n",
    "import geopandas as gpd\n",
    "import os\n",
    "from matplotlib.animation import FuncAnimation\n",
    "from matplotlib.colors import Normalize\n",
    "\n",
    "matplotlib.use(\"tkagg\")\n"
   ]
  },
  {
   "cell_type": "code",
   "execution_count": 2,
   "outputs": [
    {
     "data": {
      "text/plain": "      Organisation code    Year  Month  \\\n16016               REM  2018.0    1.0   \n15108               RCF  2018.0    1.0   \n14434               RBS  2018.0    1.0   \n22594               RTK  2018.0    1.0   \n16414               RF4  2018.0    1.0   \n...                 ...     ...    ...   \n2873                02T  2024.0    5.0   \n3830                03R  2024.0    5.0   \n9562                15F  2024.0    5.0   \n10126               36J  2024.0    5.0   \n25677             X2C4Y  2024.0    5.0   \n\n                                       Organisation name  Community-onset  \\\n16016                        Aintree University Hospital             14.0   \n15108                                           Airedale             13.0   \n14434                               Alder Hey Children's              3.0   \n22594                     Ashford & St Peter's Hospitals             13.0   \n16414  Barking, Havering & Redbridge University Hospi...             36.0   \n...                                                  ...              ...   \n2873                        NHS WEST YORKSHIRE ICB - 02T              7.0   \n3830                        NHS WEST YORKSHIRE ICB - 03R             18.0   \n9562                        NHS WEST YORKSHIRE ICB - 15F             39.0   \n10126                       NHS WEST YORKSHIRE ICB - 36J             36.0   \n25677                     NHS WEST YORKSHIRE ICB - X2C4Y             26.0   \n\n       Community-onset, community associated  \\\n16016                                    0.0   \n15108                                    0.0   \n14434                                    0.0   \n22594                                    0.0   \n16414                                    0.0   \n...                                      ...   \n2873                                     7.0   \n3830                                    14.0   \n9562                                    35.0   \n10126                                   31.0   \n25677                                   21.0   \n\n       Community-onset, healthcare associated  \\\n16016                                     0.0   \n15108                                     0.0   \n14434                                     0.0   \n22594                                     0.0   \n16414                                     0.0   \n...                                       ...   \n2873                                      0.0   \n3830                                      4.0   \n9562                                      4.0   \n10126                                     5.0   \n25677                                     5.0   \n\n       Community-onset, indeterminate association  Hospital-onset  \\\n16016                                         0.0            10.0   \n15108                                         0.0             4.0   \n14434                                         0.0             1.0   \n22594                                         0.0             2.0   \n16414                                         0.0             9.0   \n...                                           ...             ...   \n2873                                          0.0             0.0   \n3830                                          0.0             3.0   \n9562                                          0.0            14.0   \n10126                                         0.0            10.0   \n25677                                         0.0             5.0   \n\n       Hospital-onset, healthcare associated  Total cases  Unknown   zipcode  \\\n16016                                    0.0         24.0      0.0    L7 8XP   \n15108                                    0.0         17.0      0.0  BD20 6TD   \n14434                                    0.0          4.0      0.0   L12 2AP   \n22594                                    0.0         15.0      0.0  KT16 0PZ   \n16414                                    0.0         45.0      0.0   RM7 0AG   \n...                                      ...          ...      ...       ...   \n2873                                     0.0          7.0      0.0   HX1 1PW   \n3830                                     3.0         21.0      0.0   WF1 1LT   \n9562                                    14.0         53.0      0.0  LS16 6EB   \n10126                                   10.0         46.0      0.0   BD1 4AS   \n25677                                    5.0         31.0      0.0   HD1 2LR   \n\n            Date PostDist PostArea  \n16016 2018-01-01       L7        L  \n15108 2018-01-01     BD20       BD  \n14434 2018-01-01      L12        L  \n22594 2018-01-01     KT16       KT  \n16414 2018-01-01      RM7       RM  \n...          ...      ...      ...  \n2873  2024-05-01      HX1       HX  \n3830  2024-05-01      WF1       WF  \n9562  2024-05-01     LS16       LS  \n10126 2024-05-01      BD1       BD  \n25677 2024-05-01      HD1       HD  \n\n[25678 rows x 16 columns]",
      "text/html": "<div>\n<style scoped>\n    .dataframe tbody tr th:only-of-type {\n        vertical-align: middle;\n    }\n\n    .dataframe tbody tr th {\n        vertical-align: top;\n    }\n\n    .dataframe thead th {\n        text-align: right;\n    }\n</style>\n<table border=\"1\" class=\"dataframe\">\n  <thead>\n    <tr style=\"text-align: right;\">\n      <th></th>\n      <th>Organisation code</th>\n      <th>Year</th>\n      <th>Month</th>\n      <th>Organisation name</th>\n      <th>Community-onset</th>\n      <th>Community-onset, community associated</th>\n      <th>Community-onset, healthcare associated</th>\n      <th>Community-onset, indeterminate association</th>\n      <th>Hospital-onset</th>\n      <th>Hospital-onset, healthcare associated</th>\n      <th>Total cases</th>\n      <th>Unknown</th>\n      <th>zipcode</th>\n      <th>Date</th>\n      <th>PostDist</th>\n      <th>PostArea</th>\n    </tr>\n  </thead>\n  <tbody>\n    <tr>\n      <th>16016</th>\n      <td>REM</td>\n      <td>2018.0</td>\n      <td>1.0</td>\n      <td>Aintree University Hospital</td>\n      <td>14.0</td>\n      <td>0.0</td>\n      <td>0.0</td>\n      <td>0.0</td>\n      <td>10.0</td>\n      <td>0.0</td>\n      <td>24.0</td>\n      <td>0.0</td>\n      <td>L7 8XP</td>\n      <td>2018-01-01</td>\n      <td>L7</td>\n      <td>L</td>\n    </tr>\n    <tr>\n      <th>15108</th>\n      <td>RCF</td>\n      <td>2018.0</td>\n      <td>1.0</td>\n      <td>Airedale</td>\n      <td>13.0</td>\n      <td>0.0</td>\n      <td>0.0</td>\n      <td>0.0</td>\n      <td>4.0</td>\n      <td>0.0</td>\n      <td>17.0</td>\n      <td>0.0</td>\n      <td>BD20 6TD</td>\n      <td>2018-01-01</td>\n      <td>BD20</td>\n      <td>BD</td>\n    </tr>\n    <tr>\n      <th>14434</th>\n      <td>RBS</td>\n      <td>2018.0</td>\n      <td>1.0</td>\n      <td>Alder Hey Children's</td>\n      <td>3.0</td>\n      <td>0.0</td>\n      <td>0.0</td>\n      <td>0.0</td>\n      <td>1.0</td>\n      <td>0.0</td>\n      <td>4.0</td>\n      <td>0.0</td>\n      <td>L12 2AP</td>\n      <td>2018-01-01</td>\n      <td>L12</td>\n      <td>L</td>\n    </tr>\n    <tr>\n      <th>22594</th>\n      <td>RTK</td>\n      <td>2018.0</td>\n      <td>1.0</td>\n      <td>Ashford &amp; St Peter's Hospitals</td>\n      <td>13.0</td>\n      <td>0.0</td>\n      <td>0.0</td>\n      <td>0.0</td>\n      <td>2.0</td>\n      <td>0.0</td>\n      <td>15.0</td>\n      <td>0.0</td>\n      <td>KT16 0PZ</td>\n      <td>2018-01-01</td>\n      <td>KT16</td>\n      <td>KT</td>\n    </tr>\n    <tr>\n      <th>16414</th>\n      <td>RF4</td>\n      <td>2018.0</td>\n      <td>1.0</td>\n      <td>Barking, Havering &amp; Redbridge University Hospi...</td>\n      <td>36.0</td>\n      <td>0.0</td>\n      <td>0.0</td>\n      <td>0.0</td>\n      <td>9.0</td>\n      <td>0.0</td>\n      <td>45.0</td>\n      <td>0.0</td>\n      <td>RM7 0AG</td>\n      <td>2018-01-01</td>\n      <td>RM7</td>\n      <td>RM</td>\n    </tr>\n    <tr>\n      <th>...</th>\n      <td>...</td>\n      <td>...</td>\n      <td>...</td>\n      <td>...</td>\n      <td>...</td>\n      <td>...</td>\n      <td>...</td>\n      <td>...</td>\n      <td>...</td>\n      <td>...</td>\n      <td>...</td>\n      <td>...</td>\n      <td>...</td>\n      <td>...</td>\n      <td>...</td>\n      <td>...</td>\n    </tr>\n    <tr>\n      <th>2873</th>\n      <td>02T</td>\n      <td>2024.0</td>\n      <td>5.0</td>\n      <td>NHS WEST YORKSHIRE ICB - 02T</td>\n      <td>7.0</td>\n      <td>7.0</td>\n      <td>0.0</td>\n      <td>0.0</td>\n      <td>0.0</td>\n      <td>0.0</td>\n      <td>7.0</td>\n      <td>0.0</td>\n      <td>HX1 1PW</td>\n      <td>2024-05-01</td>\n      <td>HX1</td>\n      <td>HX</td>\n    </tr>\n    <tr>\n      <th>3830</th>\n      <td>03R</td>\n      <td>2024.0</td>\n      <td>5.0</td>\n      <td>NHS WEST YORKSHIRE ICB - 03R</td>\n      <td>18.0</td>\n      <td>14.0</td>\n      <td>4.0</td>\n      <td>0.0</td>\n      <td>3.0</td>\n      <td>3.0</td>\n      <td>21.0</td>\n      <td>0.0</td>\n      <td>WF1 1LT</td>\n      <td>2024-05-01</td>\n      <td>WF1</td>\n      <td>WF</td>\n    </tr>\n    <tr>\n      <th>9562</th>\n      <td>15F</td>\n      <td>2024.0</td>\n      <td>5.0</td>\n      <td>NHS WEST YORKSHIRE ICB - 15F</td>\n      <td>39.0</td>\n      <td>35.0</td>\n      <td>4.0</td>\n      <td>0.0</td>\n      <td>14.0</td>\n      <td>14.0</td>\n      <td>53.0</td>\n      <td>0.0</td>\n      <td>LS16 6EB</td>\n      <td>2024-05-01</td>\n      <td>LS16</td>\n      <td>LS</td>\n    </tr>\n    <tr>\n      <th>10126</th>\n      <td>36J</td>\n      <td>2024.0</td>\n      <td>5.0</td>\n      <td>NHS WEST YORKSHIRE ICB - 36J</td>\n      <td>36.0</td>\n      <td>31.0</td>\n      <td>5.0</td>\n      <td>0.0</td>\n      <td>10.0</td>\n      <td>10.0</td>\n      <td>46.0</td>\n      <td>0.0</td>\n      <td>BD1 4AS</td>\n      <td>2024-05-01</td>\n      <td>BD1</td>\n      <td>BD</td>\n    </tr>\n    <tr>\n      <th>25677</th>\n      <td>X2C4Y</td>\n      <td>2024.0</td>\n      <td>5.0</td>\n      <td>NHS WEST YORKSHIRE ICB - X2C4Y</td>\n      <td>26.0</td>\n      <td>21.0</td>\n      <td>5.0</td>\n      <td>0.0</td>\n      <td>5.0</td>\n      <td>5.0</td>\n      <td>31.0</td>\n      <td>0.0</td>\n      <td>HD1 2LR</td>\n      <td>2024-05-01</td>\n      <td>HD1</td>\n      <td>HD</td>\n    </tr>\n  </tbody>\n</table>\n<p>25678 rows × 16 columns</p>\n</div>"
     },
     "execution_count": 2,
     "metadata": {},
     "output_type": "execute_result"
    }
   ],
   "source": [
    "#cleaning\n",
    "df = pd.read_csv(\"masterdata.csv\")\n",
    "df.drop('Unnamed: 0', axis=1, inplace=True)\n",
    "df[\"Date\"] = pd.to_datetime(df[\"Date\"])\n",
    "df = df.sort_values([\"Year\", \"Month\", \"Organisation name\"])\n",
    "df[\"PostDist\"] = df[\"zipcode\"].str.split(\" \").str[0]\n",
    "df[\"PostArea\"] = df[\"PostDist\"].str.replace(r'\\d+', '', regex=True)\n",
    "df"
   ],
   "metadata": {
    "collapsed": false,
    "ExecuteTime": {
     "end_time": "2024-08-02T02:55:34.098843800Z",
     "start_time": "2024-08-02T02:55:33.960776100Z"
    }
   },
   "id": "aa3f63d886ecee82"
  },
  {
   "cell_type": "code",
   "execution_count": 3,
   "outputs": [],
   "source": [
    "plt.style.use(\"ggplot\")\n",
    "fig, ax = plt.subplots(figsize=(14,9))\n",
    "\n",
    "df_eng = df.loc[df[\"Organisation code\"] == \"ENG\"]\n",
    "lines = [ax.plot(df_eng[\"Date\"], df_eng[\"Community-onset\"], label=\"Community-onset case count\", color=\"blue\")[0],\n",
    "         ax.plot(df_eng[\"Date\"], df_eng[\"Hospital-onset\"], label=\"Hospital-onset case count\", color=\"red\")[0]]\n",
    "\n",
    "ax.set_title(\"Trend in the cases of E. coli bacteraemia in England, by financial year: 2018-2024\")\n",
    "ax.set_xlabel(\"Year\")\n",
    "ax.set_ylabel(\"Count\")\n",
    "ax.legend()\n",
    "\n",
    "plt.tight_layout()\n",
    "plt.show()"
   ],
   "metadata": {
    "collapsed": false,
    "ExecuteTime": {
     "end_time": "2024-08-02T02:55:38.100025200Z",
     "start_time": "2024-08-02T02:55:36.541720200Z"
    }
   },
   "id": "15b17c0f2a234d9c"
  },
  {
   "cell_type": "code",
   "execution_count": 4,
   "outputs": [],
   "source": [
    "uk = gpd.read_file(os.getcwd()+ \"\\\\uk-shapefile\\\\PostalArea.shp\")\n",
    "crs = {'init':'epsg:4326'}\n",
    "\n",
    "df = df.loc[df[\"Organisation code\"] != \"ENG\"]\n",
    "\n",
    "postal_areas_to_remove = [\n",
    "    'ZE', 'KW', 'IV', 'HS', 'PH', 'AB', 'DD', 'PA', 'FK', 'G', 'KY', 'KA', 'DG', 'TD', 'EH', 'ML',\n",
    "    'LL', 'SY', 'LD', 'HR', 'NP', 'CF', 'SA', 'BT'\n",
    "]\n",
    "\n",
    "# Removing rows with specified postal areas\n",
    "eng = uk[~uk['PostArea'].isin(postal_areas_to_remove)]\n",
    "grouped = df.groupby('PostArea')['Community-onset'].sum().reset_index()\n",
    "\n",
    "eng_geo = eng.merge(grouped, on=\"PostArea\", how=\"left\")\n",
    "fig, ax = plt.subplots(figsize=(20,20))\n",
    "eng_geo.plot(ax=ax, column=\"Community-onset\", linewidth=0.01, edgecolor=\"black\", cmap=\"Purples\", legend=True,legend_kwds={'label': 'Community-onset Case Count', 'orientation': 'vertical'}, missing_kwds={'color': 'lightgrey'})\n",
    "\n",
    "plt.title('Community-onset Case Count', fontsize=16)\n",
    "plt.axis(\"off\")\n",
    "plt.margins(0,0)\n",
    "plt.gca().xaxis.set_major_locator(plt.NullLocator())\n",
    "plt.gca().yaxis.set_major_locator(plt.NullLocator())\n",
    "# plt.savefig(\"test.png\",bbox_inches='tight', dpi=750)\n",
    "plt.show()"
   ],
   "metadata": {
    "collapsed": false,
    "ExecuteTime": {
     "end_time": "2024-08-02T02:55:45.260711500Z",
     "start_time": "2024-08-02T02:55:40.827984Z"
    }
   },
   "id": "b6f0da93d60528f6"
  },
  {
   "cell_type": "code",
   "execution_count": 6,
   "outputs": [],
   "source": [
    "grouped = df.groupby('PostArea')['Total cases'].sum().reset_index()\n",
    "\n",
    "eng_geo = eng.merge(grouped, on=\"PostArea\", how=\"left\")\n",
    "fig, ax = plt.subplots(figsize=(20,20))\n",
    "eng_geo.plot(ax=ax, column=\"Total cases\", linewidth=0.01, edgecolor=\"black\", cmap=\"Purples\", legend=False,legend_kwds={'label': 'Total Case Count', 'orientation': 'vertical'}, missing_kwds={'color': 'lightgrey'})\n",
    "\n",
    "\n",
    "plt.title('Total Case Count', fontsize=16)\n",
    "plt.axis(\"off\")\n",
    "plt.margins(0,0)\n",
    "plt.gca().xaxis.set_major_locator(plt.NullLocator())\n",
    "plt.gca().yaxis.set_major_locator(plt.NullLocator())\n",
    "# plt.savefig(\"test2.png\",bbox_inches='tight', dpi=750)\n",
    "plt.show()"
   ],
   "metadata": {
    "collapsed": false,
    "ExecuteTime": {
     "end_time": "2024-08-02T04:23:50.803525100Z",
     "start_time": "2024-08-02T04:23:42.327210500Z"
    }
   },
   "id": "2afb9635b62f5abd"
  },
  {
   "cell_type": "code",
   "execution_count": 8,
   "outputs": [],
   "source": [
    "df_grouped = df.groupby(['PostArea', 'Date'])['Total cases'].sum().reset_index()\n",
    "df_grouped['Cumulative_Cases'] = df_grouped.groupby('PostArea')['Total cases'].cumsum()\n",
    "\n",
    "gdf = uk[~uk['PostArea'].isin(postal_areas_to_remove)]\n",
    "\n",
    "# Merge the geodataframe with the grouped dataframe\n",
    "merged_gdf = gdf.merge(df_grouped, on='PostArea', how='left')\n",
    "\n",
    "# Create a figure and axis\n",
    "fig, ax = plt.subplots(figsize=(15, 20))\n",
    "\n",
    "# Set up the plot\n",
    "ax.set_title('Cumulative E. coli Cases in England')\n",
    "ax.axis('off')\n",
    "\n",
    "# Function to update the plot for each frame\n",
    "def update(date):\n",
    "    ax.clear()\n",
    "    ax.set_title(f'Cumulative E. coli Cases in England as of {date}')\n",
    "    ax.axis('off')\n",
    "\n",
    "    # Filter data up to the current date    \n",
    "    current_data = merged_gdf[merged_gdf['Date'] <= date]\n",
    "\n",
    "    # Plot the data\n",
    "    current_data.plot(column='Cumulative_Cases', ax=ax, legend=True, vmin=current_data['Cumulative_Cases'].min(),                       vmax=current_data['Cumulative_Cases'].max(), cmap='YlOrRd', \n",
    "                     norm=Normalize(vmin=current_data['Cumulative_Cases'].min(), vmax=current_data['Cumulative_Cases'].max()),\n",
    "                     missing_kwds={'color': 'lightgrey'})\n",
    "\n",
    "# Get unique dates for animation\n",
    "dates = sorted(df_grouped['Date'].unique())\n",
    "\n",
    "# Create the animation\n",
    "animation = FuncAnimation(fig, update, frames=dates, interval=200)\n",
    "animation.save('ecoli_cases_animation.gif', writer='pillow', fps=5)\n",
    "\n",
    "plt.close(fig)"
   ],
   "metadata": {
    "collapsed": false,
    "ExecuteTime": {
     "end_time": "2024-08-02T15:30:15.936143600Z",
     "start_time": "2024-08-02T15:00:35.719004900Z"
    }
   },
   "id": "91b9e47de717fc"
  }
 ],
 "metadata": {
  "kernelspec": {
   "display_name": "Python 3",
   "language": "python",
   "name": "python3"
  },
  "language_info": {
   "codemirror_mode": {
    "name": "ipython",
    "version": 2
   },
   "file_extension": ".py",
   "mimetype": "text/x-python",
   "name": "python",
   "nbconvert_exporter": "python",
   "pygments_lexer": "ipython2",
   "version": "2.7.6"
  }
 },
 "nbformat": 4,
 "nbformat_minor": 5
}
